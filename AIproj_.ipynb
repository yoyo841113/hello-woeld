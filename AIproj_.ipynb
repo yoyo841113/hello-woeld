{
 "cells": [
  {
   "cell_type": "markdown",
   "metadata": {},
   "source": [
    "第一個python程式"
   ]
  },
  {
   "cell_type": "code",
   "execution_count": 3,
   "metadata": {
    "scrolled": true
   },
   "outputs": [
    {
     "data": {
      "text/plain": [
       "8"
      ]
     },
     "execution_count": 3,
     "metadata": {},
     "output_type": "execute_result"
    }
   ],
   "source": [
    "#單行註解\n",
    "'''\n",
    "多行註解\n",
    "多行註解\n",
    "多行註解\n",
    "多行註解\n",
    "多行註解\n",
    "'''\n",
    "a=3\n",
    "b=5 #單行註解\n",
    "a+b"
   ]
  },
  {
   "cell_type": "code",
   "execution_count": 1,
   "metadata": {},
   "outputs": [
    {
     "name": "stdout",
     "output_type": "stream",
     "text": [
      "ï»¿<!DOCTYPE html>\r\n",
      "<!--\r\n",
      "Template Name:ææ°ç§æå¤§å­¸\r\n",
      "Author: <a href=\"http://www.os-templates.com/\">OS Templates</a>\r\n",
      "Author URI: http://www.os-templates.com/\r\n",
      "Licence: Free to use under our free template licence terms\r\n",
      "Licence URI: http://www.os-templates.com/template-terms\r\n",
      "-->\r\n",
      "<html>\r\n",
      "<head>\r\n",
      "<meta name=\"google-site-verification\" content=\"qyA7Hl8GH4fSuN63aOHw_YOR_OiuioN_OJBIsW0AJTM\" />\r\n",
      "<title>ææ°ç§æå¤§å­¸</title>\r\n",
      "<meta charset=\"utf-8\">\r\n",
      "<meta http-equiv=\"X-UA-Compatible\" content=\"IE=edge,chrome=1\">\r\n",
      "<meta name=\"viewport\" content=\"width=device-width, initial-scale=1.0, maximum-scale=1.0, user-scalable=no\">\r\n",
      "<meta name= \" Accessible_website \" content= \" æ¬ç¶²ç«ééç¬¬(1)åªå",
      "ç­ç´ç¡éç¤ç¶²é æª¢æ¸¬ \" >\r\n",
      "<link href=\"layout/styles/layout.css\" rel=\"stylesheet\" type=\"text/css\" media=\"all\">\r\n",
      "<script type=\"text/javascript\" src=\"layout/scripts/away.js\"></script>\r\n",
      "<script charset=\"UTF-8\" type=\"text/javascript\" src=\"http://webs.must.edu.tw/pagecount/showpage.php?page=must_school&show=no\"></script>\r\n",
      "<style type=text/css> \r\n",
      "<!--\r\n",
      "/*å",
      "¨é¨è¨­å®å­é«*/\r\n",
      " body { font-family: verdana, Times New Roman, å¾®è»æ­£é»é«, æ°ç´°æé«; }\r\n",
      "//-->\r\n",
      "</style>\r\n",
      "</head>\r\n",
      "<body id=\"top\">\r\n",
      "<!-- ################################################################################################ --> \r\n",
      "<!-- ################################################################################################ --> \r\n",
      "<!-- ################################################################################################ -->\r\n",
      "<div class=\"wrapper row1\">\r\n",
      "\r\n",
      "  <div id=\"topbar\" class=\"clear\"> \r\n",
      "    <!-- ################################################################################################ -->\r\n",
      "    <nav>\r\n",
      "      <ul><a href=\"#_top\" accesskey=\"U\" title=\"ä¸æ¹é¸å®å\">:::</a>\r\n",
      "        <li><a href=\"http://www.must.edu.tw/index.html\">é¦é </a></li>\r\n",
      "        <li><a href=\"http://www.must.edu.tw/about/contact.html\">è¯çµ¡æå</a></li>\r\n",
      "        <li><a href=\"http://fg.must.edu.tw/\">English</a></li>\r\n",
      "        <li><a href=\"mailto://csc@must.edu.tw;president@must.edu.tw;secretariat.must@must.edu.tw;hylu@must.edu.tw \">æ ¡é·ä¿¡ç®±</a></li>\r\n",
      "        <li><a href=\"mailto://csc@must.edu.tw\">è£äºé·ä¿¡ç®±</a></li>\r\n",
      "\t<li><a href=\"http://www.must.edu.tw/about/webmap.html\">ç¶²ç«å°è¦½</a></li>\r\n",
      "\t<li><a href=\"http://www.must.edu.tw/seach.html\">ç«å",
      "§æå°</a></li>\r\n",
      "      \r\n",
      "      </ul>\r\n",
      "    </nav>\r\n",
      "    <!-- ################################################################################################ --> \r\n",
      "  </div>\r\n",
      "</div>\r\n",
      "<!-- ################################################################################################ --> \r\n",
      "\r\n",
      "<!-- å",
      "¬éåºççµyahooè¡é·ç¨å¼ç¢¼ -->\r\n",
      "<script type=\"application/javascript\">(function(w,d,t,r,u){w[u]=w[u]||[];w[u].push({'projectId':'10001499389408','properties':{'pixelId':'440351'}});var s=d.createElement(t);s.src=r;s.async=true;s.onload=s.onreadystatechange=function(){var y,rs=this.readyState,c=w[u];if(rs&&rs!=\"complete\"&&rs!=\"loaded\"){return}try{y=YAHOO.ywa.I13N.fireBeacon;w[u]=[];w[u].push=function(p){y([p])};y(c)}catch(e){}};var scr=d.getElementsByTagName(t)[0],par=scr.parentNode;par.insertBefore(s,scr)})(window,document,\"script\",\"https://s.yimg.com/wi/ytc.js\",\"dotq\");</script>\r\n",
      "\r\n",
      "<!-- ################################################################################################ --> \r\n",
      "<!-- ################################################################################################ -->\r\n",
      "<div class=\"wrapper row1\">\r\n",
      "  <header id=\"header\" class=\"clear\"> \r\n",
      "    <!-- ################################################################################################ -->\r\n",
      "    <div id=\"logo\" class=\"fl_left\">\r\n",
      "      <a href=\"http://www.must.edu.tw\" title=\"åé¦é \"><img src=\"images/Q/newlogo-3.png\" alt=\"å­¸æ ¡ç¶²é logoå\"></a>\r\n",
      "      <!--<h1><a href=\"http://www.must.edu.tw/\">ææ°ç§æå¤§å­¸</a></h1> -->\r\n",
      "      <!--<p  style=\"color:#FFFFFF;\">Minghsin University of Science and Technology</p> -->\r\n",
      "    </div>\r\n",
      "    <div class=\"fl_right\">\r\n",
      "\r\n",
      "    <div id=\"headerLink\">\r\n",
      "    <!-- <form class=\"clear\" method=\"post\" action=\"chinese/16_search/search.aspx\" enctype=\"multipart/form-data\">\r\n",
      "        <fieldset>\r\n",
      "          <legend>Search:</legend>\r\n",
      "          <input name=\"searchkey\" type=\"text\" value=\"\" placeholder=\"å",
      "¨ç«æå°\">\r\n",
      "          <button class=\"javascript:fSearch_submit(document.fsearch);\" type=\"submit\" title=\"Search\">\r\n",
      "\t\t  <function Tomaincontent(item) \r\n",
      "{ \r\n",
      "  for (var i=1; i<= maincontent; i++){\r\n",
      "    main_content = document.getElementById(\"main_content_\"+ i);\r\n",
      "\tlabel = document.getElementById(\"label_\"+ i);\r\n",
      "    main_content.style.display = \"none\";\r\n",
      "\tlabel.className = \"home_label\"+i+\"B\"; \r\n",
      "\t//label.style.background = eval(\"d\"+i); \r\n",
      "  }\r\n",
      "    main_content = document.getElementById(\"main_content_\"+ item);\r\n",
      "\tlabel = document.getElementById(\"label_\"+ item);\r\n",
      "    main_content.style.display = \"block\";\r\n",
      "\tlabel.className = \"home_label\"+item; \r\n",
      "\t//label.style.background = eval(\"u\"+item); \r\n",
      "} \r\n",
      "function fSearch_submit(obj){\r\n",
      "\tif(obj.searchkey.value==\"\")\r\n",
      "\t\talert(\"è«è¼¸å",
      "¥ééµå­\");\r\n",
      "\telse\r\n",
      "\t\tobj.submit();}>\r\n",
      "\t\t<img src=\"images/Sh1.png\" alt=\"space\"><em>go</em></button>\r\n",
      "        </fieldset>\r\n",
      "      </form> -->\r\n",
      "\r\n",
      "    </div>\r\n",
      "    <!-- ################################################################################################ --> \r\n",
      "  </header>\r\n",
      "</div>\r\n",
      "<!-- ################################################################################################ --> \r\n",
      "<!-- ################################################################################################ --> \r\n",
      "<!-- ################################################################################################ -->\r\n",
      "<div class=\"wrapper row2\">\r\n",
      "\r\n",
      "  <div class=\"rounded\">\r\n",
      "    <nav id=\"mainav\" class=\"clear\"> \r\n",
      "      <!-- ################################################################################################ -->\r\n",
      "      <ul class=\"clear\">\r\n",
      "<a href=\"#_menu\" accesskey=\"M\" title=\"æ©«ååè½é£çµå-ææè¯çµçä»¥å¦éè¦çªçºä¸»\">:::</a>\r\n",
      "        <li class=\"active\"><a href=\"http://www.must.edu.tw\">é¦é </a></li>\r\n",
      "        <li><a class=\"drop\" href=\"http://www.must.edu.tw/about/aboutmust.html\">éæ¼ææ°</a>\r\n",
      "          <ul>\r\n",
      "            <li><a href=\"about/about-4.html \" target=\"_blank\">æ ¡å²</a></li>\r\n",
      "            <li><a href=\"about/about-2.html \" target=\"_blank\">æ ¡è¨</a></li>\r\n",
      "            <li><a href=\"about/about-3.html \" target=\"_blank\">æ ¡æ­</a></li>\r\n",
      "            <li><a href=\"about/about-16.html\" target=\"_blank\">åµæ ¡å",
      "è</a></li>\r\n",
      "            <li><a href=\"http://webc1.must.edu.tw/mustj001\" target=\"_blank\">è£äºæ</a></li>\r\n",
      "            <li><a href=\"http://webc2.must.edu.tw/jtmust002/\" target=\"_blank\">æ ¡é·</a></li>\r\n",
      "            <li><a href=\"http://www.must.edu.tw/ochart/1070411.pdf\" target=\"_blank\" title=\"æ¬æ ¡çµç¹ä»¥æ ¡é·é å°4é¢1ä¸­å¿è16åä¸ç´å®ä½å",
      "±åæ¨åææ°æ ¡åï¼è©³ç´°çµç¹çµæè«åèè¡æ¿å®ä½èå­¸è¡å®ä½ä¹é é¢\">å­¸æ ¡çµç¹ç³»çµ±å(PDFæ ¼å¼)</a></li>\r\n",
      "            <li><a href=\"about/about-7.html\" target=\"_blank\">æ²»æ ¡çå¿µ</a></li>\r\n",
      "            <li><a href=\"http://www.must.edu.tw/about/mustmap.html\" target=\"_blank\">å¦ä½å°ææ°</a></li>\r\n",
      "\t    <li><a href=\"http://webc1.must.edu.tw/jtmust073/index.php/2017-01-20-03-50-06/2017-01-23-06-53-36\" target=\"_blank\">æ ¡å",
      "§å¹³é¢å</a></li>\r\n",
      "            <li><a href=\"about/about-9.html\" target=\"_blank\">æ ¡åç¼å±éé»</a></li>\r\n",
      "            <li><a href=\"about/about-18.html\" target=\"_blank\">å­¸æ ¡å®ä½ãä½¿å½ãé¡æ¯åç¼å±ç®æ¨</a></li>\r\n",
      "          </ul>\r\n",
      "        </li>\r\n",
      "      <li><a class=\"drop\" href=\"http://www.must.edu.tw/about/acade.html\">å­¸è¡å®ä½</a>\r\n",
      "          <ul>\r\n",
      "            \r\n",
      "            <li><a class=\"drop\" href=\"http://webc1.must.edu.tw/jtmust058\" target=\"_blank\">å·¥å­¸é¢</a><ul>\r\n",
      "                <li><a href=\"http://me-u.must.edu.tw\" target=\"_blank\">æ©æ¢°å·¥ç¨ç³»(å­¸å£«ç­)æ¨ç²¾å¯æ©é»å·¥ç¨ç ç©¶æ(ç¢©å£«ç­)</a></li>\r\n",
      "                <li><a href=\"http://webc2.must.edu.tw/jtmust005\" target=\"_blank\">é»æ©å·¥ç¨ç³»(å­¸å£«ç­ãç¢©å£«ç­)</a></li>\r\n",
      "                <li><a href=\"http://webc2.must.edu.tw/jtmust016\" target=\"_blank\">é»å­å·¥ç¨ç³»(å­¸å£«ç­ãç¢©å£«ç­)</a></li>\r\n",
      "                <li><a href=\"http://webc2.must.edu.tw/jtmust012\" target=\"_blank\">å",
      "é»ç³»çµ±å·¥ç¨ç³»(å­¸å£«ç­ãç¢©å£«ç­)</a></li>\r\n",
      "                <li><a href=\"http://webc1.must.edu.tw/jtmust074\" target=\"_blank\">è³è¨å·¥ç¨ç³»(å­¸å£«ç­)</a></li>\r\n",
      "                <li><a href=\"http://webc2.must.edu.tw/jtmust020/\" target=\"_blank\">åå­¸å·¥ç¨èææç§æç³»(å­¸å£«ç­ãç¢©å£«ç­)</a></li>\r\n",
      "                <li><a href=\"http://acade.must.edu.tw/index.aspx?UnitID=30116\" target=\"_blank\">ç¢æ¥­ç¢©å£«å°ç­</a></li>\r\n",
      "                <li><a href=\"http://webc2.must.edu.tw/jtmust004/\" target=\"_blank\">åæ¨å·¥ç¨èç°å¢è³æºç®¡çç³»(å­¸å£«ç­ãç¢©å£«ç­)</a></li>\r\n",
      "                <li><a href=\"http://webc1.must.edu.tw/jtmust048/\" target=\"_blank\">åå¦åæç¨å­¸å£«å­¸ä½å­¸ç¨</a></li>\r\n",
      "              </ul>\r\n",
      "            </li>\r\n",
      "            \r\n",
      "            <li><a class=\"drop\" href=\"http://webc2.must.edu.tw/jtmust015\" target=\"_blank\">ç®¡çå­¸é¢</a><ul>\r\n",
      "                <li><a href=\"http://webc2.must.edu.tw/jtmust028\" target=\"_blank\">å·¥æ¥­å·¥ç¨èç®¡çç³»(å­¸å£«ç­ãç¢©å£«ç­)</a></li>\r\n",
      "                <li><a href=\"http://www.im.must.edu.tw/im/\" target=\"_blank\">è³è¨ç®¡çç³»(å­¸å£«ç­ãç¢©å£«ç­)</a></li>\r\n",
      "                <li><a href=\"http://webc2.must.edu.tw/jtmust006\" target=\"_blank\">ä¼æ¥­ç®¡çç³»(å­¸å£«ç­)</a></li>\r\n",
      "                <li><a href=\"http://webc2.must.edu.tw/jtmust021\" target=\"_blank\">è²¡åéèç³»(å­¸å£«ç­)</a></li>\r\n",
      "                <li><a href=\"http://webc2.must.edu.tw/jtmust022\" target=\"_blank\">ç®¡çç ç©¶æ(ç¢©å£«ç­)</a></li>\r\n",
      "                <li><a href=\"http://webc2.must.edu.tw/jtmust018\" target=\"_blank\">è¡é·èæµéç®¡çç³»(å­¸å£«ç­)</a></li>\r\n",
      "                <li><a href=\"http://webc2.must.edu.tw/jtmust013/\" target=\"_blank\">å",
      "¨çéç±ç®¡çä¸­å¿</a></li>\r\n",
      "                <li><a href=\"http://webc1.must.edu.tw/jtmust079\" target=\"_blank\">åµæ¥­èè¡é·å­¸å£«å­¸ä½å­¸ç¨</a></li>\r\n",
      "                <li><a href=\"http://www.im.must.edu.tw/cloud/\" target=\"_blank\">é²ç«¯ç§æèååæç¨å­¸å£«å­¸ä½å­¸ç¨</a></li>\r\n",
      "              </ul>\r\n",
      "            </li>\r\n",
      "            \r\n",
      "            <li><a class=\"drop\" href=\"http://webc1.must.edu.tw/jtmust043\" target=\"_blank\">æåç¢æ¥­å­¸é¢</a><ul>\r\n",
      "                <li><a href=\"http://webc2.must.edu.tw/jtmust019\" target=\"_blank\">æ",
      "é¤¨äºæ¥­ç®¡çç³»(å­¸å£«ç­)</a></li>\r\n",
      "                <li><a href=\"http://webc1.must.edu.tw/jtmust076\" target=\"_blank\">å¹¼å",
      "ä¿è²ç³»(å­¸å£«ç­)</a></li>\r\n",
      "                <li><a href=\"http://webc2.must.edu.tw/jtmust101\" target=\"_blank\">ä¼éäºæ¥­ç®¡çç³»(å­¸å£«ç­)</a></li>\r\n",
      "                <li><a href=\"http://webc2.must.edu.tw/jtmust010/\" target=\"_blank\">èäººæåäºæ¥­ç®¡çç³»(å­¸å£«ç­)</a></li>\r\n",
      "                <li><a href=\"http://webc1.must.edu.tw/jtmust044\" target=\"_blank\">æåäºæ¥­ç®¡çç ç©¶æ(ç¢©å£«ç­)</a></li>\r\n",
      "                <li><a href=\"http://webc2.must.edu.tw/jtmust011\"  target=\"_blank\">å¸«è³å¹è²ä¸­å¿</a></li>\r\n",
      "                <li><a href=\"http://acade.must.edu.tw/index.aspx?UnitID=30504\" target=\"_blank\">æåè§å",
      "ç¢æ¥­å­¸å£«å­¸ä½å­¸ç¨</a></li>\r\n",
      "              </ul>\r\n",
      "            </li>\r\n",
      "            \r\n",
      "           <li><a class=\"drop\" href=\"http://webc2.must.edu.tw/jtmust003\" target=\"_blank\">äººæç¤¾æå­¸é¢</a><ul>\r\n",
      "                <li><a href=\"http://webc1.must.edu.tw/jtmust067/\" target=\"_blank\" >æç¨å¤èªç³»(å­¸å£«ç­)</a></li>\r\n",
      "                <li><a href=\"http://webc1.must.edu.tw/mustj004\"  target=\"_blank\">éåç®¡çç³»(å­¸å£«ç­)</a></li>\r\n",
      "                <li><a href=\"http://webc2.must.edu.tw/jtmust008\" target=\"_blank\">èæä¸­å¿</a></li>\r\n",
      "\t\t<li><a href=\"http://webc1.must.edu.tw/jtmust041 \" target=\"_blank\">è¯èªææå­¸ä¸­å¿</a></li>\r\n",
      "\t\t<li><a href=\"http://webc1.must.edu.tw/mustj006\" target=\"_blank\" >å¤å",
      "æç¾¤æåç ç©¶ä¸­å¿</a></li>\r\n",
      "              </ul>\r\n",
      "            </li>\r\n",
      "            \r\n",
      "             <li><a class=\"drop\" href=\"http://webc2.must.edu.tw/jtmust014\" target=\"_blank\">éè­æè²ä¸­å¿</a><ul>\r\n",
      "                <li><a href=\"http://webc1.must.edu.tw/jtmust081\"  target=\"_blank\">äººæèè¡æå­¸ä¸­å¿</a></li>\r\n",
      "                <li><a href=\"http://webc1.must.edu.tw/jtmust082\"  target=\"_blank\">ç¤¾æç§å­¸æå­¸ä¸­å¿</a></li>\r\n",
      "                <li><a href=\"http://webc1.must.edu.tw/jtmust083\" target=\"_blank\">èªç¶ç§å­¸æå­¸ä¸­å¿</a></li>\r\n",
      "               <li><a href=\"http://webc1.must.edu.tw/jtmust084\" target=\"_blank\" >èªè¨æå­¸ä¸­å¿</a></li>\r\n",
      "              </ul>\r\n",
      "            </li>\r\n",
      "            \r\n",
      "           <li><a class=\"drop\" href=\"#\">å",
      "¶ä»å®ä½</a> <ul>\r\n",
      "                \r\n",
      "                <li><a href=\"http://acade.must.edu.tw/index.aspx?UnitID=Z0033\"  target=\"_blank\">ææ°ç§å¤§æå¸«æ</a></li>\r\n",
      "              </ul>\r\n",
      "            </li> \r\n",
      "            \r\n",
      "          </ul>\r\n",
      "        </li>\r\n",
      "        \r\n",
      "        \r\n",
      "           <li><a class=\"drop\" href=\"http://www.must.edu.tw/about/admin.html\" target=\"_blank\">è¡æ¿å®ä½</a>\r\n",
      "               <ul>\r\n",
      "                <li><a href=\"http://webc1.must.edu.tw/mustj002\"  target=\"_blank\">ç¨½æ ¸å®¤</a></li>\r\n",
      "\r\n",
      "            <li><a class=\"drop\" href=\"http://webc2.must.edu.tw/jtmust024\"  target=\"_blank\">ç§æ¸å®¤</a><ul>\r\n",
      "                \r\n",
      "                <!--<li><a href=\"http://webc1.must.edu.tw/jtmust062\" target=\"_blank\">å",
      "¬éåºççµ</a></li>-->\r\n",
      "                <li><a href=\"http://webc1.must.edu.tw/jtmust060 \" target=\"_blank\">æ ¡åæåä¸­å¿</a></li>\r\n",
      "                \r\n",
      "                <!--<li><a href=\"http://admin.must.edu.tw/index.aspx?UnitID=20208\" target=\"_blank\">å",
      "©å²¸äº¤æµä¸­å¿</a></li>-->\r\n",
      "\t\t<!--<li><a href=\"http://admin.must.edu.tw/index.aspx?UnitID=20202\" target=\"_blank\">åéäº¤æµä¸­å¿</a></li>-->\t\t\r\n",
      "              </ul>\r\n",
      "            </li>\r\n",
      "\t\t\t\r\n",
      "\t\t\t<li><a href=\"http://webc1.must.edu.tw/jtmust062\" target=\"_blank\">å",
      "¬å",
      "±éä¿äºæ¥­å®¤</a></li>\r\n",
      "\t\t\t\r\n",
      "            <li><a href=\"http://webc1.must.edu.tw/jtmust077\" target=\"_blank\">æ ¡åç ç©¶è¾¦å",
      "¬å®¤</a></li>\r\n",
      "            \r\n",
      "            <li><a class=\"drop\" href=\"http://webc1.must.edu.tw/jtmust056 \" target=\"_blank\">åéæ¨å",
      "©å²¸äºåè</a><ul>\r\n",
      "                <li><a href=\"http://webc2.must.edu.tw/jtmust033\" target=\"_blank\">åéæè²èäº¤æµä¸­å¿</a></li>\r\n",
      "                <li><a href=\"http://webc2.must.edu.tw/jtmust032\" target=\"_blank\">å",
      "©å²¸æè²èäº¤æµä¸­å¿</a></li>\r\n",
      "                <li><a href=\"http://webc2.must.edu.tw/jtmust027 \" target=\"_blank\">åæ¸¯æ¾³æè²èäº¤æµä¸­å¿</a></li>\r\n",
      "                <li><a href=\"http://webc2.must.edu.tw/jtmust031\" target=\"_blank\">å¤çè¼å°èæåä¸­å¿</a></li>\r\n",
      "                \r\n",
      "              </ul>\r\n",
      "            </li>\r\n",
      "\r\n",
      "             <li><a class=\"drop\" href=\"http://webc1.must.edu.tw/jtmust066/\" target=\"_blank\">æåè</a><ul>\r\n",
      "                <li><a href=\"http://webc1.must.edu.tw/jtmust057\" target=\"_blank\">ç¶åæ¥­åçµ</a></li>\r\n",
      "                <li><a href=\"http://webc2.must.edu.tw/jtmust029\" target=\"_blank\">èª²åçµ</a></li>\r\n",
      "                <li><a href=\"http://webc2.must.edu.tw/jtmust026\" target=\"_blank\">è¨»åçµ</a></li>\r\n",
      "                <li><a href=\"http://webc2.must.edu.tw/jtmust025\" target=\"_blank\">æå­¸ç¼å±ä¸­å¿</a></li>\r\n",
      "              </ul>\r\n",
      "            </li>\r\n",
      "            \r\n",
      "             <li><a class=\"drop\" href=\"http://webc1.must.edu.tw/jtmust064\" target=\"_blank\">å­¸çäºåè</a><ul>\r\n",
      "                <li><a href=\"http://webc2.must.edu.tw/jtmust037\" target=\"_blank\">çæ´»è¼å°çµ</a></li>\r\n",
      "                <li><a href=\"http://webc1.must.edu.tw/jtmust063\" target=\"_blank\">èª²å¤æ´»åæå°çµ</a></li>\r\n",
      "                <li><a href=\"http://webc1.must.edu.tw/jtmust053\" target=\"_blank\">è¡çä¿å¥çµ</a></li>\r\n",
      "                <li><a href=\"http://webc1.must.edu.tw/jtmust055\" target=\"_blank\">é«è²å®¤</a></li>\r\n",
      "                <li><a href=\"http://webc1.must.edu.tw/jtmust070\" target=\"_blank\">ä½å®¿æåçµ</a></li>\r\n",
      "                <li><a href=\"http://webc1.must.edu.tw/jtmust042\" target=\"_blank\">æåå­¸ç¿ä¸­å¿</a></li>\r\n",
      "                <li><a href=\"http://webc1.must.edu.tw/jtmust069\" target=\"_blank\">è«®åè¼å°æ¨è·æ¶¯ç¼å±ä¸­å¿</a></li>\r\n",
      "                <li><a href=\"http://webc2.must.edu.tw/jtmust030\" target=\"_blank\">è«®åè¼å°æ¨è·æ¶¯ç¼å±ä¸­å¿[è³æºæå®¤]</a></li>\r\n",
      "              </ul>\r\n",
      "            </li>\r\n",
      "            \r\n",
      "            \r\n",
      "             <li><a class=\"drop\" href=\"http://webc1.must.edu.tw/jtmust072\" target=\"_blank\">ç¸½åè</a><ul>\r\n",
      "                <li><a href=\"http://webc1.must.edu.tw/jtmust065\" target=\"_blank\">ä¿ç®¡çµ</a></li>\r\n",
      "                <li><a href=\"http://webc1.must.edu.tw/jtmust073\" target=\"_blank\">äºåçµ</a></li>\r\n",
      "                <li><a href=\"http://webc1.must.edu.tw/jtmust052\" target=\"_blank\">çç¹çµ</a></li>\r\n",
      "                <li><a href=\"http://webc1.must.edu.tw/jtmust050\" target=\"_blank\">æ¡è³¼çµ</a></li>\r\n",
      "                <li><a href=\"http://webc1.must.edu.tw/jtmust075\" target=\"_blank\">ææ¸çµ</a></li>\r\n",
      "                <li><a href=\"http://webc1.must.edu.tw/jtmust049\" target=\"_blank\">åºç´çµ</a></li>\r\n",
      "              </ul>\r\n",
      "            </li>\r\n",
      "            \r\n",
      "             <li><a class=\"drop\" href=\"http://webc1.must.edu.tw/jtmust045\" target=\"_blank\">ç ç©¶ç¼å±è</a><ul>\r\n",
      "                <li><a href=\"http://webc2.must.edu.tw/jtmust035\" target=\"_blank\">ç ç©¶èæè¡æ¨åä¸­å¿</a></li>\r\n",
      "                <li><a href=\"http://webc1.must.edu.tw/jtmust054\" target=\"_blank\">æ ¡åä¼åçµ</a></li>\r\n",
      "                <li><a href=\"http://webc1.must.edu.tw/jtmust046 \" target=\"_blank\">ç¢å­¸åæè¡ç§»è½ä¸­å¿</a></li>\r\n",
      "                <li><a href=\"http://webc1.must.edu.tw/jtmust047\" target=\"_blank\">åµæ°è²æä¸­å¿</a></li>\r\n",
      "              </ul>\r\n",
      "            </li>\r\n",
      "            \r\n",
      "            \r\n",
      "             <li><a  href=\"http://www.lib.must.edu.tw/\" target=\"_blank\">åæ¸é¤¨</a>\r\n",
      "             \r\n",
      "                <!-- <li><a class=\"drop\" href=\"http://www.lib.must.edu.tw/\" target=\"_blank\">åæ¸é¤¨</a><ul>\r\n",
      "                <li><a href=\"http://admin.must.edu.tw/index.aspx?UnitID=20602\" target=\"_blank\">æ¡è¨ªç·¨ç®çµ</a></li>\r\n",
      "                <li><a href=\"http://admin.must.edu.tw/index.aspx?UnitID=20603\" target=\"_blank\">è®è",
      "æåçµ</a></li>\r\n",
      "                <li><a href=\"http://admin.must.edu.tw/index.aspx?UnitID=20604\" target=\"_blank\">ç³»çµ±è³è¨çµ</a></li> </ul> -->\r\n",
      "            </li>\r\n",
      "            \r\n",
      "              <li><a href=\"http://webc2.must.edu.tw/jtmust001/\" target=\"_blank\">è³è¨è</a></li>\r\n",
      "             <!-- \r\n",
      "                <li><a class=\"drop\" href=\"http://admin.must.edu.tw/index.aspx?UnitID=20701\" target=\"_blank\">è³è¨è</a><ul>\r\n",
      "                <li><a href=\"http://admin.must.edu.tw/index.aspx?UnitID=20703\" target=\"_blank\">æ ¡åè»é«çµ</a></li>\r\n",
      "                <li><a href=\"http://admin.must.edu.tw/index.aspx?UnitID=20704\" target=\"_blank\">ç¶²è·¯æåçµ</a></li>\r\n",
      "                <li><a href=\"http://admin.must.edu.tw/index.aspx?UnitID=20705\" target=\"_blank\">æå­¸æ¯æ´çµ</a></li> </ul>\r\n",
      "            </li> -->\r\n",
      "            \r\n",
      "            <li><a href=\"http://webc1.must.edu.tw/jtmust059\" target=\"_blank\">æè¨å®¤</a></li>\r\n",
      "\r\n",
      "            <li><a href=\"http://webc1.must.edu.tw/mustj007\" target=\"_blank\">äººäºå®¤</a></li>\r\n",
      "            \r\n",
      "             <li><a class=\"drop\" href=\"http://webc2.must.edu.tw/jtmust040/\" target=\"_blank\">é²ä¿®æ¨å»£é¨</a><ul>\r\n",
      "                <li><a href=\"http://webc2.must.edu.tw/jtmust034\" target=\"_blank\">é²ä¿®æ¨å»£é¨è¨»åçµ</a></li>\r\n",
      "                <li><a href=\"http://webc2.must.edu.tw/jtmust039\" target=\"_blank\">é²ä¿®æ¨å»£é¨èª²åçµ</a></li>\r\n",
      "                <li><a href=\"http://webc2.must.edu.tw/jtmust036\" target=\"_blank\">é²ä¿®æ¨å»£é¨å­¸çäºåçµ</a></li>\r\n",
      "                <li><a href=\"http://webc2.must.edu.tw/jtmust023\" target=\"_blank\">é²ä¿®æ¨å»£é¨ç¸½åçµ</a></li>\r\n",
      "                <li><a href=\"http://eec.must.edu.tw\" target=\"_blank\">æ¨å»£æè²ä¸­å¿</a></li>\r\n",
      "              </ul>\r\n",
      "            </li>\r\n",
      "            \r\n",
      "            <li><a  href=\"http://webc2.must.edu.tw/jtmust038\" target=\"_blank\">é²ä¿®å­¸é¢æ¨å°ç§é²ä¿®å­¸æ ¡</a>\r\n",
      "\r\n",
      "         <!--    <li><a class=\"drop\" href=\"http://admin.must.edu.tw/index.aspx?UnitID=21301\" target=\"_blank\">é²ä¿®å­¸é¢æ¨å°ç§é²ä¿®å­¸æ ¡</a><ul>\r\n",
      "                <li><a href=\"http://webc2.must.edu.tw/jtmust038\" target=\"_blank\">é²ä¿®å­¸é¢æ¨å°ç§é²ä¿®å­¸æ ¡æåçµ</a></li>\r\n",
      "                <li><a href=\"http://webc2.must.edu.tw/jtmust036\" target=\"_blank\">é²ä¿®å­¸é¢æ¨å°ç§é²ä¿®å­¸æ ¡äºåçµ</a></li>\r\n",
      "                <li><a href=\"http://webc2.must.edu.tw/jtmust023\" target=\"_blank\">é²ä¿®å­¸é¢æ¨å°ç§é²ä¿®å­¸æ ¡ç¸½åçµ</a></li>                \r\n",
      "              </ul>-->\r\n",
      "            </li>\r\n",
      "            \r\n",
      "            <li><a href=\"http://admin.must.edu.tw/index.aspx?UnitID=20801\" target=\"_blank\">æ³è¦åæä»¶ç®¡å¶ä¸­å¿</a></li>\r\n",
      "\t\t\t\r\n",
      "            <li><a class=\"drop\" href=\"http://webc1.must.edu.tw/jtmust068\" target=\"_blank\">è»è¨å®¤</a>\r\n",
      "\t\t\t<ul>\r\n",
      "\t\t\t<li><a href=\"http://webc1.must.edu.tw/jtmust061\" target=\"_blank\">æ ¡å®ä¸­å¿</a></li>\r\n",
      "            </ul></li>\r\n",
      "\t\t\t\r\n",
      "            <li><a href=\"http://webc1.must.edu.tw/jtmust051/\" target=\"_blank\">ç°å¢å®å",
      "¨è¡çä¸­å¿</a>\r\n",
      "            </li>\r\n",
      "            \r\n",
      "             <li><a class=\"drop\" href=\"#\" target=\"_blank\">å",
      "¶ä»å®ä½</a><ul>\r\n",
      "                <li><a href=\"http://webs.must.edu.tw/ocmust004/\" target=\"_blank\">åäººè³æä¿è­·å°å</a></li>\r\n",
      "                <li><a href=\"http://webs.must.edu.tw/ocmust004/\" target=\"_blank\">æºè²¡æ¬å°å</a></li>\r\n",
      "                <li><a href=\"http://admin.must.edu.tw/index.aspx?UnitID=Z0032\" target=\"_blank\">ç¢å­¸ç ç¼ç¶²ç«</a></li>\r\n",
      "                <li><a href=\"http://admin.must.edu.tw/index.aspx?UnitID=Z0001\" target=\"_blank\">æ§å¥å¹³ç­æè²è³è¨ç¶²</a></li>\r\n",
      "                \r\n",
      "                <li><a href=\"http://admin.must.edu.tw/index.aspx?UnitID=Z0010\" target=\"_blank\">ææ°å­¸å ±</a></li>\r\n",
      "                <li><a href=\"http://admin.must.edu.tw/index.aspx?UnitID=Z0024\" target=\"_blank\">æ°ç«¹åç­ç¥è¯çè¨ç«ç¶²ç«</a></li>\r\n",
      "                <li><a href=\"http://admin.must.edu.tw/index.aspx?UnitID=Z0002\" target=\"_blank\">é»å­ç³»ç³»åæ</a></li>\r\n",
      "                <li><a href=\"http://webs.must.edu.tw/ocmust002\" target=\"_blank\">æ°ç«¹ç¸£ååå±",
      "å®¶æè²æåä¸­å¿(åç¤¾åä¿æ¯ç³»çµ±)</a></li>\r\n",
      "                \r\n",
      "               \r\n",
      "              </ul>\r\n",
      "            </li>            \r\n",
      "          </ul>\r\n",
      "        </li>\r\n",
      "        \r\n",
      "        \r\n",
      "        \r\n",
      "      \r\n",
      "        \r\n",
      "\r\n",
      "        \r\n",
      "        <li><a class=\"drop\" href=\"http://www.must.edu.tw/about/admissions.html\">æçå®ä½</a>\r\n",
      "         <ul>\r\n",
      "            <li><a href=\"http://webs.must.edu.tw/ocmust100/\" target=\"_blank\">æ¥éé¨æçè¨æ¯(å«ç¢©å£«å¨è·å°ç­)</a></li>\r\n",
      "            <li><a href=\"http://webs.must.edu.tw/ocmust101/\" target=\"_blank\">é²ä¿®é¨æçè¨æ¯</a></li>\r\n",
      "           <li><a href=\"http://webs.must.edu.tw/ocmust102/\" target=\"_blank\">åç­äºè¼ªæçå°å/ç¢å­¸ææè¨ç«</a></li>\r\n",
      "            <li><a href=\"http://webs.must.edu.tw/ocmust104/\" target=\"_blank\">è½å­¸çæçè¨æ¯</a></li>\r\n",
      "\t    <li><a href=\"http://fg.must.edu.tw/\" target=\"_blank\">å¤ç±å­¸çæçè¨æ¯</a></li>\r\n",
      "            \r\n",
      "             </ul>  </li>\r\n",
      "        \r\n",
      "        \r\n",
      "        <li><a class=\"drop\" href=\"http://www.must.edu.tw/about/servies.html\" target=\"_blank\">ç·ä¸æå</a>\r\n",
      "         <ul>\r\n",
      "            <li><a href=\"http://www.must.edu.tw/about/qa.html\" target=\"_blank\">å¸¸è¦åç­</a></li>\r\n",
      "            <li><a class=\"drop\" href=\"#\">æåç³»çµ±</a>\r\n",
      "             <ul>\r\n",
      "                <li><a href=\"http://sss.must.edu.tw/std_service.html\" target=\"_blank\">å­¸çå°å</a></li>\r\n",
      "                <li><a href=\"http://sss.must.edu.tw/teach_service.html\" target=\"_blank\">æè·å¡å°å</a></li>\r\n",
      "               <!-- <li><a href=\"http://sss.must.edu.tw/chief_service.html\" target=\"_blank\">è¡æ¿ä¸»ç®¡å°å</a></li>\r\n",
      "                <li><a href=\"http://sss.must.edu.tw/stuff_service.html\" target=\"_blank\">è¡æ¿äººå¡å°å</a></li> -->\r\n",
      "                </ul></li>\r\n",
      "                \r\n",
      "             <li><a class=\"drop\" href=\"http://www.must.edu.tw/about/download.html\">æªæ¡ä¸è¼</a>\r\n",
      "             <ul>\r\n",
      "                <li><a href=\"http://ftp.must.edu.tw/ftp/free/form/index.htm\" target=\"_blank\">å¸¸ç¨è¡¨æ ¼(éæ ¡å",
      "§é£ç·)</a></li>\r\n",
      "                <li><a href=\"http://www.must.edu.tw/about/download.html\" target=\"_blank\">æ ¡å¾½/å°å/ç³»çµ±çµç¹å</a></li>\r\n",
      "                <li><a href=\"http://www.must.edu.tw/chinese/MUST-ISMS-D-022.PDF\" target=\"_blank\">è³è¨æåç³è«å®(PDFæ ¼å¼)</a></li>\r\n",
      "\t\t</ul></li>\r\n",
      "              \r\n",
      "            <li><a href=\"mailto://vanjj@must.edu.tw\" target=\"_blank\">ç¶²ç«åé¡åæ </a></li>  \r\n",
      "            <li><a href=\"http://www.must.edu.tw/about/calendar.html\" target=\"_blank\">æ ¡åè¡äºæ</a></li>    \r\n",
      "              </ul>  </li>\r\n",
      "\t  \r\n",
      "            <li><a  href=\"http://webs.must.edu.tw/jtmust060\" target=\"_blank\">å¼±å¢å©å­¸å¸å</a></li>\r\n",
      " \r\n",
      "      </ul>\r\n",
      "      <!-- ################################################################################################ --> \r\n",
      "    </nav>\r\n",
      "  </div>\r\n",
      "</div>\r\n",
      "<!-- ################################################################################################ --> \r\n",
      "<!-- ################################################################################################ --> \r\n",
      "<!-- ################################################################################################ -->\r\n",
      "<div class=\"wrapper\">\r\n",
      "  <div id=\"slider\">\r\n",
      "    <div id=\"slide-wrapper\" class=\"rounded clear\"> \r\n",
      "      <!-- ################################################################################################ -->\r\n",
      "      <!-- start htmlType1 -->  \n",
      "    \t\t      <figure id=\"slide-1\"><a class=\"view\" href=\"http://webs.must.edu.tw/ocmust100/index.php\" target=\"_blank\"><img src=\"http://mustwebsystem.must.edu.tw/ashx/chchou/showMustWwwImage.ashx?filegid=283\" alt=\"20180613 ç¶åæ¥­åçµ 107å­¸å¹´åº¦æ¥éé¨æåªçå¯©å",
      "¥å­¸ãçé¸å",
      "¥å­¸åè¯åç»è¨åç¼ç­æçè¨æ¯\" ></a>\n",
      "    \t\t        \n",
      "    \t\t      </figure>\n",
      "    \t\t      \n",
      "    \t\t      <figure id=\"slide-2\"><a class=\"view\" href=\"https://goo.gl/ZfgDMy\" target=\"_blank\"><img src=\"http://mustwebsystem.must.edu.tw/ashx/chchou/showMustWwwImage.ashx?filegid=284\" alt=\"20180717 è¨»åçµ 107-1è½å­¸èæç\" ></a>\n",
      "    \t\t        \n",
      "    \t\t      </figure>\n",
      "    \t\t      \n",
      "    \t\t      <figure id=\"slide-3\"><a class=\"view\" href=\"http://webs.must.edu.tw/ocmust100/index.php/2-2n\" target=\"_blank\"><img src=\"http://mustwebsystem.must.edu.tw/ashx/chchou/showMustWwwImage.ashx?filegid=268\" alt=\"107å­¸å¹´åº¦2_2Nå°è£æ¸¬è©¦ç¢æ¥­ç²¾è±å°ç­\" ></a>\n",
      "    \t\t        \n",
      "    \t\t      </figure>\n",
      "    \t\t      \n",
      "    \t\t      <figure id=\"slide-4\"><a class=\"view\" href=\"http://shuedu.com.tw/\" target=\"_blank\"><img src=\"http://mustwebsystem.must.edu.tw/ashx/chchou/showMustWwwImage.ashx?filegid=287\" alt=\"20180503 æ ¡é¦é   ç®¡é¢ ææ°èç¾åè¥¿æ±å¤§å­¸å¨è·éè¯MBAæç\" ></a>\n",
      "    \t\t        \n",
      "    \t\t      </figure>\n",
      "    \t\t      \n",
      "    \t\t      <figure id=\"slide-5\"><a class=\"view\" href=\"http://webs.must.edu.tw/ocmust100/index.php/2018-03-02-10-02-21/38-107-6\" target=\"_blank\"><img src=\"http://mustwebsystem.must.edu.tw/ashx/chchou/showMustWwwImage.ashx?filegid=289\" alt=\"20180522 ç¶åæ¥­åçµ 107å­¸å¹´åº¦æ¥éé¨åå¹´å¶ç³è«å",
      "¥å­¸æç\" ></a>\n",
      "    \t\t        \n",
      "    \t\t      </figure>\n",
      "    \t\t    <!-- ################################################################################################ --><ul id=\"slide-tabs\"><li id=\"tab1\"></li><li id=\"tab2\"></li><li id=\"tab3\"></li><li id=\"tab4\"></li><li id=\"tab5\"></li></ul><!-- end htmlType1 --> \r\n",
      "<!-- ################################################################################################ --> \r\n",
      "    </div>\r\n",
      "  </div>\r\n",
      "</div>\r\n",
      "<!-- ################################################################################################ --> \r\n",
      "<!-- ################################################################################################ -->                                                                                                                                                                                                                                                                                                                                                                                                                                                                                                                                                                                                                                                                                                                                                                                                                                                                                                                                                                                                                                                                                                                                                                                                                                                                                                                                                                                                                                                                                                                                                                                                                                                                                                                                                                                                                                                                                                                                                                                                                                                                                                                                                                                                                                                                                                                                                                                                                                                                                                                                                                                                                                                                                                                                                                                                                                                                                                                                                                                                                                                                                                                                                                                                                                                                                                                                                                                                                                                                                                                                                                                                                                                                                                                                                                                                                                                                                                                                                                                                                                                                                                                                                                                                                                                         \r\n",
      "<!-- ################################################################################################ -->\r\n",
      "<div class=\"wrapper row3\">\r\n",
      "  <div class=\"rounded\">\r\n",
      "  <a href=\"#_center\" accesskey=\"C\" title=\"ä¸»è¦å",
      "§å®¹åå¡\">:::ä¸»è¦å",
      "§å®¹</a>\r\n",
      "    <main class=\"container clear\"> \r\n",
      "\t\r\n",
      "      <!-- main body --> \r\n",
      "      <!-- ################################################################################################ -->\r\n",
      "      <div class=\"group btmspace-30\"> \r\n",
      "        <!-- Left Column -->\r\n",
      "        <div class=\"one_quarter first\"> \r\n",
      "          <!-- ################################################################################################ -->\r\n",
      "          <ul class=\"nospace\">\r\n",
      "            <!--<li class=\"btmspace-15\"><a href=\"http://www.must.edu.tw/chinese/08_onlineservices/01_1_bulletinlist.aspx\" target=\"_blank\"><em class=\"heading\">ææ°æ¶æ¯/Campus News</em> </a></li>-->\r\n",
      "            <li class=\"btmspace-15\"><em class=\"heading\">ææ°æ¶æ¯/Campus News</em> </li>\r\n",
      "            <li class=\"btmspace-15\"><a href=\"http://www.must.edu.tw/about/admissions.html\" target=\"_blank\"><b>æçè¨æ¯/Admissions</b> <img class=\"borderedbox\" src=\"images/demo/220x95-1.png\" alt=\"æçè¨æ¯åç¤º\"></a></li>\r\n",
      "            <li class=\"btmspace-15\"><a href=\"https://sites.google.com/site/mustfreshman\" target=\"_blank\"><b>æ°çå°å / Freshmen</b> <img class=\"borderedbox\" src=\"images/demo/220x95-2.png\" alt=\"æ°çå°ååç¤º\"></a></li>\r\n",
      "            <li class=\"btmspace-15\"><a href=\"http://eec.must.edu.tw\" target=\"_blank\"><b>æ¨å»£æè² /<br> Extension Education</b> <img class=\"borderedbox\" src=\"images/demo/220x95-3.png\" alt=\"æ¨å»£æè²åç¤º\"></a></li>\r\n",
      "\t    <!--<li class=\"btmspace-15\"><a href=\"http://50th.must.edu.tw/\"  target=\"_blank\"><b>æ",
      "¶ç¥50é±å¹´æ ¡æ",
      "¶(105)/<br>50th  anniversary(2016)</b><img class=\"borderedbox\" src=\"images/demo/20160919.jpg\" alt=\"50é±å¹´é£çµå\"></a></li> -->\r\n",
      "            \r\n",
      "           </ul>\r\n",
      "          <!-- ################################################################################################ --> \r\n",
      "        </div>\r\n",
      "        <!-- / Left Column --> \r\n",
      "        <!-- Middle Column -->\r\n",
      "\t\t\r\n",
      "        <div class=\"one_half\"> \r\n",
      "          <!-- ################################################################################################ -->\r\n",
      "          <h2>æ ¡åæ°è/Publication News</h2>\r\n",
      "          <ul class=\"nospace listing\">\r\n",
      "            <!-- start htmlType2 -->  \n",
      "    \t\t      <li class=\"clear\">\n",
      "\t                <div class=\"imgl borderedbox\" ><img src=\"http://mustwebsystem.must.edu.tw/ashx/chchou/showMustWwwImage.ashx?filegid=293\" style=\"height:120px; width:120px;\"  alt=\"èæä¸­å¿èè¾¦éå¼æ¸æ³åå®¶ææå½¬åå± ç¹æ®ææ³å¯«åºé¡åå°ç¨±çæ¸æ³å­ç« \" ></div>\n",
      "\t                <p class=\"nospace btmspace-15\"><a href=\"http://webc1.must.edu.tw/jtmust062/index.php/news/510-20180516\">èæä¸­å¿èè¾¦éå¼æ¸æ³åå®¶ææå½¬åå± ç¹æ®ææ³å¯«åºé¡åå°ç¨±çæ¸æ³å­ç« </a></p>\n",
      "\t                <p>èæä¸­å¿éè«å°å°ç£ç¥åéå¼æ¸æ³å®¶ææå½¬å¤§å¸«ï¼èè¾¦ãéå¼æ¸æ³çè©©æé»æµ·ãåäººæ¸å¢¨å±ï¼å¨5æ16æ¥ä¸åèè¡éå¹è¶æãå·è¡è£äºå¼µç¥æ°ãæ ¡é·æåçãäººç¤¾é¢é¢é·åå´æ²»ç­æ ¡å",
      "§ä¸»ç®¡çåºå¸­éå¹æ´»åï¼ææå½¬èå¸«ä¹æ¼éå¹å¼ä¸­è´éäº3å¹",
      "å¤§åå­ç«ä½åçµ¦æ ¡æ¹ï¼åå¥ç±å¼µç¥æ°å·è¡è£äºãæåçæ ¡é·ä»£è¡¨åè´ãæ°ç«¹ç¸£å¯ç¸£é·æ¥æç§ä¹è¦ªè¨ç¾å ´åè§ææå½¬èå¸«çéå¼æ¸æ³å­ç«ããéå¼æ¸æ³çè©©æé»æµ· ææå½¬ç¿°å¢¨åå±ãå³æ¥èµ·å°6æ13æ¥æ¼èæä¸­å¿å",
      "è²»å±åºã</p>\n",
      "\t              </li>\n",
      "    \t\t      \n",
      "    \t\t      <li class=\"clear\">\n",
      "\t                <div class=\"imgl borderedbox\" ><img src=\"http://mustwebsystem.must.edu.tw/ashx/chchou/showMustWwwImage.ashx?filegid=291\" style=\"height:120px; width:120px;\"  alt=\"æ¬æ ¡ç¼è¡¨MUST+PLAYåµæ°æå­¸è¨ç« ç¿»è½æè·æè²\" ></div>\n",
      "\t                <p class=\"nospace btmspace-15\"><a href=\"http://webc1.must.edu.tw/jtmust062/index.php/news/509-must-play\">æ¬æ ¡ç¼è¡¨MUST+PLAYåµæ°æå­¸è¨ç« ç¿»è½æè·æè²</a></p>\n",
      "\t                <p>æ¬æ ¡éåå",
      "§æè·é¢æ ¡ä¹å",
      "ï¼å°å",
      "¥åµæ°æè²çç²¾ç¥ï¼æåºä»¥å¹é¤å­¸çãç©åºæ¨æ´»ç«¶ç­åãçºç®æ¨çå",
      "¨æ°ãMUST+PLAYãæå­¸è¨ç«ï¼ä¸¦å¨5æ15æ¥ä¸åèè¾¦å¥éçé¢çåååå¼ï¼è«ä¾æ¾çºãåªå®¢ææãæå¡çç¥åæ ¡åæé©¥ãIGç¶²ç´",
      "é§é¶å®£(ç¾å°±è®è©²æ ¡è³ç®¡ç³»)ç«å°ï¼å",
      "©äººåä½ä¸¦æ­é",
      "å¸«çé³æ¨åµä½çç²¾å½©è¡¨æ¼ï¼ç¨æ­æ²è©®éãMUST+PLAYãæå­¸ç²¾ç¥ãè£äºé·å¼µç´¹éãå·è¡è£äºå¼µç¥æ°ãæ ¡é·æåçä¹åºå¸­åååå¼ï¼ç¾ä»»æ¹å£æ©è¯ä¼æ¥­è£äºé·çç¬¬ä¸å±æ ¡åé­æ£æ¨èæ ¡åç¸½æé·æ¥å®æç­è²´è³ï¼ä¹åºå¸­ä¸èµ·å®£åï¼æ¬æ ¡ååè·¨é åçãåµæ°ãåµæãåµé ãæå­¸åå¼ï¼è¦ç¿»è½ç¤¾æå°æè·æè²çå»æ¿å°è±¡ã</p>\n",
      "\t              </li>\n",
      "    \t\t      \n",
      "    \t\t      <li class=\"clear\">\n",
      "\t                <div class=\"imgl borderedbox\" ><img src=\"http://mustwebsystem.must.edu.tw/ashx/chchou/showMustWwwImage.ashx?filegid=290\" style=\"height:120px; width:120px;\"  alt=\"è²¡éç³»æ¨å»£éèå¸å ´åæè³å·¥å",
      "·ç¥è­ èè­å¸æ¨æè²¨å¸å ´ç¼å±åºéæåè¾¦åºéæè³è¬åº§\" ></div>\n",
      "\t                <p class=\"nospace btmspace-15\"><a href=\"http://webc1.must.edu.tw/jtmust062/index.php/news/508-2018-05-11-06-46-28\">è²¡éç³»æ¨å»£éèå¸å ´åæè³å·¥å",
      "·ç¥è­ èè­å¸æ¨æè²¨å¸å ´ç¼å±åºéæåè¾¦åºéæè³è¬åº§</a></p>\n",
      "\t                <p>æ¬æ ¡è²¡åéèç³»æ¼5/14æ¥ï¼èè­å¸æ¨æè²¨å¸å ´ç¼å±åºéæåä½ï¼å¨æ ¡å",
      "§èè¾¦å",
      "±ååºéæè³æ°è¦çç³»åè¬åº§ï¼ä¾æå¹´é½¡å±¤åæè³ç¶é©ä¹ä¸åï¼è¦åä¸ç³»åèª²ç¨ï¼å",
      "æ¬çè²¡æ°æç­ãçè²¡ç²¾é²ç­åæ¨æ´»éä¼ç­ãæ¯ç­è¦åä¸å èª²ï¼åå©æ°ç¾æç³»çµ±çå­¸ç¿å",
      "±ååºéæè³ï¼é²èéç¨ï¼éæåäººçè²¡ç®æ¨ãæ­¡è¿æèè¶£æ°ç¾å ±ååå ï¼æ ¡å¤äººå£«å ±åç¶²åï¼https://goo.gl/fm2EUWã</p>\n",
      "\t              </li>\n",
      "    \t\t    <!-- end htmlType2 --> \r\n",
      "          \r\n",
      "           </ul>\r\n",
      "         <!-- <p class=\"right\"><a href=\"#\">Click here to view all of the latest news and events &raquo;</a></p>--> \r\n",
      "          <br><a href=\"http://webc1.must.edu.tw/jtmust062/index.php/news/news\" target=\"_blank\">çæ´å¤...æ ¡åæ°è</a></br>\r\n",
      "          <!-- ################################################################################################ --> \r\n",
      "        </div>\r\n",
      "        <!-- / Middle Column --> \r\n",
      "        <!-- Right Column -->\r\n",
      "        \r\n",
      "        <div class=\"one_quarter sidebar\"> \r\n",
      "          <!-- ################################################################################################ -->\r\n",
      "          <div class=\"sdb_holder\">\r\n",
      "            <h6>ææ°å½±é³ä»ç´¹/Video</h6>\r\n",
      "            <div class=\"mediacontainer\" >\r\n",
      "                <!-- start htmlType3 -->\n",
      "                      <iframe name='video' height=\"200\" width=\"230\" src=\"https://www.youtube.com/embed/lWrrPoa0Wvs\" frameborder=\"0\" allowfullscreen  TITLE=\"MUST video\"></iframe>\n",
      "    \t\t    <!-- end htmlType3 -->             <p><a href=\"http://goo.gl/XcNSK3\">çæ´å¤..ææ°å½±é³å°å</a></p>\r\n",
      "            </div>\r\n",
      "          </div>\r\n",
      "          <div class=\"sdb_holder\" >\r\n",
      "            <h6>å¿«éé£çµ/Quick Link</h6>\r\n",
      "            <ul class=\"nospace quickinfo\">\r\n",
      "              <li class=\"clear\"><a href=\"http://sss.must.edu.tw/std_service.html\"  target=\"_blank\"><img src=\"images/demo/80x80-1.gif\" alt=\"å­¸çå°åå½¢è±¡å\"> å­¸çå°å  / Students</a></li>\r\n",
      "              <li class=\"clear\"><a href=\"http://sss.must.edu.tw/teach_service.html\" target=\"_blank\"><img src=\"images/demo/80x80-2.gif\" alt=\"æè·å¡å°åå½¢è±¡å\" > æè·å¡å°å  / faculty & staff</a></li>\r\n",
      "               <li class=\"clear\"><a href=\"http://webc1.must.edu.tw/jtmust046/\" target=\"_blank\"><img src=\"images/demo/80x80-3.gif\" alt=\"ç¢å­¸åä½å½¢è±¡å\">ç¢å­¸åä½  / Cooperation </a></li>\r\n",
      "            </ul>\r\n",
      "          </div>\r\n",
      "          <!-- ################################################################################################ --> \r\n",
      "        </div>\r\n",
      "        <!-- / Right Column --> \r\n",
      "      </div>\r\n",
      "      <!-- ################################################################################################ --> \r\n",
      "      <!-- ################################################################################################ -->\r\n",
      "      \r\n",
      "      <div id=\"twitter\" class=\"group btmspace-30\">\r\n",
      "\t  \r\n",
      "      <div class=\"one_quarter first center\" ><a href=\"#\" ><img src=\"images/demo/100.png\" alt=\"ææ°ç§æå¤§å­¸ç¶²é LOGO\" ></i> </a></div>\r\n",
      "\t\t\t\r\n",
      "      <div class=\"three_quarter bold\">\r\n",
      "              \r\n",
      "              \r\n",
      " <a href=\"http://www.lib.must.edu.tw/\" target=\"_blank\"><font color= white>åæ¸é¤¨</a></font> / &nbsp              \r\n",
      "              <a href=\"https://actss.must.edu.tw/MingStdAssocD/main.aspx\" target=\"_blank\"><font color= white>å­¸çç¤¾åæ´»å</a></font> / &nbsp \r\n",
      "              <a href=\"http://www.must.edu.tw/about/calendar.html\" target=\"_blank\"><font color= white>æ ¡åè¡äºæ</font></a> / &nbsp \r\n",
      "              <a href=\"http://www.must.edu.tw/about/webmap.html\" target=\"_blank\"><font color= white>ç¶²ç«å°è¦½</font></a> / &nbsp \r\n",
      "              <a href=\"http://www.must.edu.tw/about/qa.html\" target=\"_blank\"><font color= white>å¸¸è¦åé¡</font></a>/ &nbsp     <br>\r\n",
      "              <a href=\"https://sites.google.com/site/mustfreshman\" target=\"_blank\"><font color= white>æ°çå°å</font></a>/ &nbsp \r\n",
      "              <a href=\"https://ebill.must.edu.tw/\" target=\"_blank\"><font color= white>å­¸éè²»å°å</font></a>/ &nbsp\r\n",
      "              <a href=\"https://sites.google.com/site/jiangzhuxuejinzixun/\" target=\"_blank\"><font color= white>çå©å­¸éå°å</font></a> / &nbsp   \r\n",
      "              \r\n",
      "\r\n",
      "              \r\n",
      "              <a href=\"http://www.must.edu.tw/mustfdpage/mustfdpage.html\" target=\"_blank\"><font color= white>æ ¡åè²¡åè³è¨å",
      "¬éç¶²</font></a> / &nbsp \r\n",
      "              <a href=\"http://frdp.must.edu.tw/\" target=\"_blank\"><font color= white>æå¸«ç ç¼è½éç³»çµ±</font></a> / &nbsp  <br>\r\n",
      "              <a href=\"http://admin.must.edu.tw/index.aspx?UnitID=Z0024\" target=\"_blank\"><font color= white>æ°ç«¹åç­ç¥è¯çè¨ç«ç¶²ç«</font></a> /\r\n",
      "              <a href=\"http://www.lib.must.edu.tw/50ebook/ææ°ç§å¤§50é±å¹´ç´å¿µå°å.pdf\" target=\"_blank\"><font color= white>50é±å¹´å°å</font></a> &nbsp \r\n",
      "              <a href=\"http://www.lib.must.edu.tw/50ebook/æ ¡æ",
      "¶ç´å¿µ.html\" target=\"_blank\"><font color= white>(é»å­æ¸)</font></a> /\r\n",
      "              <a href=\"http://www.lib.must.edu.tw/50ebook/äºèåµææ°ç«å.pdf\" target=\"_blank\"><font color= white>åµæ ¡äºå",
      "èç«å</font></a> &nbsp \r\n",
      "              <a href=\"http://www.lib.must.edu.tw/50ebook/é»å­æ¸-äºèç«å150.html\" target=\"_blank\"><font color= white>(é»å­æ¸)</font></a>\r\n",
      "        </div>\r\n",
      "      \r\n",
      "      </div>\r\n",
      "      <!-- ################################################################################################ --> \r\n",
      "      <!-- ################################################################################################ -->\r\n",
      "      <div class=\"group\">\r\n",
      "        <h2>æ ¡å",
      "§è³æº/Resources-ææé£çµçä»¥å¦éè¦çªçºä¸»</h2>\r\n",
      "        <div class=\"one_quarter first\"> \r\n",
      "          <!-- ################################################################################################ -->\r\n",
      "          <ul class=\"nospace\">\r\n",
      "            <li><font size=\"3\"><b>æ ¡åçæ´»</b></font></li>\r\n",
      "            <li><a href=\"http://www.must.edu.tw/about/webmap.html\" target=\"_blank\">é£çµ¡åèå®¤</a></li>\r\n",
      "            <li><a href=\"https://actss.must.edu.tw/MingStdAssocD/main.aspx\" target=\"_blank\">å­¸çç¤¾å</a></li>\r\n",
      "            <li><a href=\"http://webc1.must.edu.tw/jtmust070/index.php/tw/2017-02-16-07-48-36\">å­¸çä½å®¿ç¸éè³è¨</a></li>\r\n",
      "            <li><a href=\"http://mustinfo.must.edu.tw/muststd/\" target=\"_blank\">å­¸çä½å®¿è³è¨ç³»çµ±</a></li>\r\n",
      "            <li><a href=\"http://goo.gl/ZZtAC9\" target=\"_blank\">æ°çé ç¥-ç·ä¸å½±é³</a></li>\r\n",
      "            <li><a href=\"http://2handbook.nasme.org.tw/\" target=\"_blank\">æ ¡åäºææç§æ¸</a></li>\r\n",
      "            <li><a href=\"http://webc2.must.edu.tw/jtmust008\" target=\"_blank\">æ´»åå±è¦½</a></li>\r\n",
      "            <br />\r\n",
      "            \r\n",
      "            <li><font size=\"3\"><b>æ ¡åäºå</b></font></li>\r\n",
      "            <li><a href=\"https://sss.must.edu.tw/pars/index.htm\" target=\"_blank\">å®¶é·éæ·ç³»çµ±</a></li>\r\n",
      "            <li><a href=\"http://nit.immigration.gov.tw/\" target=\"_blank\">æ°ä½æ°æ¸ä½è³è¨eç¶²</a></li>\r\n",
      "            <li><a href=\"http://webc1.must.edu.tw/mustj007/\" target=\"_blank\">æ§é¨·æ¾æ¨æ§ä¾µç¯ç³è¨´ç®¡é</a></li>\r\n",
      "            <li><a href=\"http://admin.must.edu.tw/index.aspx?UnitID=Z0001\" target=\"_blank\">æ§å¥å¹³ç­æè²å°å</a></li>\r\n",
      "            <br />\r\n",
      "            <li><font size=\"3\"><b>ç·ä¸å­¸ç¿</b></font></li>\r\n",
      "            <li><a href=\"http://ftp.must.edu.tw/IPL/index.htm\" target=\"_blank\">IPLæ¸ä½è±èªå­¸é¢</a></li>\r\n",
      "           \r\n",
      "            \r\n",
      "          </ul>\r\n",
      "          <!-- ################################################################################################ --> \r\n",
      "        </div>\r\n",
      "        <div class=\"one_quarter\"> \r\n",
      "          <!-- ################################################################################################ -->\r\n",
      "          <ul class=\"nospace\">\r\n",
      "            <li><font size=\"3\"><b>å­¸çå¸¸ç¨è³è¨æå</b></font></li>\r\n",
      "            <li><a href=\"https://sss.must.edu.tw/\" target=\"_blank\">å­¸çè³è¨æåç³»çµ±</a></li>\r\n",
      "            <li><a href=\"http://std.must.edu.tw/\" target=\"_blank\">å­¸çéµä»¶æåç³»çµ±</a></li>\r\n",
      "            <li><a href=\"http://eportfolio.must.edu.tw/\" target=\"_blank\">é»å­æ­·ç¨æªæ¡ç³»çµ±<br />(e-Portfolio)</a></li>\r\n",
      "            <li><a href=\"https://sss.must.edu.tw/cosinfo/\" target=\"_blank\">éèª²è³è¨æ¥è©¢æå</a></li>\r\n",
      "            <li><a href=\"https://sss.must.edu.tw/abseapply/\" target=\"_blank\">é²ä¿®é¨å­¸çç¶²è·¯è«åç³»çµ±</a></li>\r\n",
      "            <li><a href=\"https://ebill.must.edu.tw/\" target=\"_blank\">å­¸éè²»ç¶²è·¯æåç³»çµ±</a></li>\r\n",
      "            <li><a href=\"https://actss.must.edu.tw/MingStdAssocD/main.aspx\" target=\"_blank\">å­¸çç¤¾åç®¡çç³»çµ±</a></li>\r\n",
      "            <li><a href=\"https://sss.must.edu.tw/leave/readme.htm\" target=\"_blank\">å­¸çé¢æ ¡ç³è«</a></li>\r\n",
      "\t    <li><a href=\"http://int.must.edu.tw/\" target=\"_blank\">æ ¡å¤å¯¦ç¿ç®¡çç³»çµ±</a></li>\r\n",
      "            <br />\r\n",
      "             \r\n",
      "            <li><font size=\"3\"><b>å¸¸ç¨è³è¨æå</b></font></li>\r\n",
      "            <li><a href=\"http://ecampus.must.edu.tw/eCampus3P/Learn/Default.aspx\" target=\"_blank\">eCampusæå­¸å¹³å°</a></li>\r\n",
      "            <li><a href=\"http://webhdd.must.edu.tw/\" target=\"_blank\">ç¶²è·¯ç¡¬ç¢(æ°)</a></li>\r\n",
      "            <li><a href=\"http://www.cc.must.edu.tw/maintain-online/conkout_state.asp\" target=\"_blank\">é»è",
      "¦ç¶­ä¿®æå</a></li>\r\n",
      "            <li><a href=\"http://ftp.must.edu.tw/\" target=\"_blank\">å",
      "¨æ ¡ææ¬è»é«ä¸è¼<br />(å",
      "éæ ¡å",
      "§ä½¿ç¨)</a></li>\r\n",
      "            <li><a href=\"http://www.must.edu.tw/chinese/MUST-ISMS-D-022.PDF\" target=\"_blank\">è³è¨æåç³è«å®(PDFæ ¼å¼)</a></li>\r\n",
      "            \r\n",
      "            \r\n",
      "          </ul>\r\n",
      "          <!-- ################################################################################################ --> \r\n",
      "        </div>\r\n",
      "        <div class=\"one_quarter\"> \r\n",
      "          <!-- ################################################################################################ -->\r\n",
      "          <ul class=\"nospace\">\r\n",
      "            <li><font size=\"3\"><b>æè·å¡å¸¸ç¨è³è¨æå</b></font></li>\r\n",
      "            <li><a href=\"https://sss.must.edu.tw/teachinfo/\" target=\"_blank\">æè·å¡è³è¨æåç³»çµ±</a></li>\r\n",
      "            <li><a href=\"http://mail.must.edu.tw/\" target=\"_blank\">æè·å¡éµä»¶æåç³»çµ±</a></li>\r\n",
      "            <li><a href=\"https://mustwebsystem.must.edu.tw/\" target=\"_blank\">æ ¡åè¡æ¿è³è¨ç³»çµ±</a></li>\r\n",
      "            <li><a href=\"https://accounting.must.edu.tw/alltop/\" target=\"_blank\">æè¨ç¸½åç³»çµ±</a></li>\r\n",
      "           \r\n",
      "            <br />\r\n",
      "            <li><font size=\"3\"><b>ä¸è¬è³è¨</b></font></li>\r\n",
      "            <li><a href=\"http://www.must.edu.tw/about/calendar.html\" target=\"_blank\">è¡äºæ</a></li>\r\n",
      "            <li><a href=\"http://webc1.must.edu.tw/jtmust055\" target=\"_blank\">æ ¡å",
      "§é«è²å ´é¤¨</a></li>\r\n",
      "            <li><a href=\"http://webc1.must.edu.tw/jtmust051/\" target=\"_blank\">æ¬æ ¡ç¨é»è³æ</a></li>\r\n",
      "            \r\n",
      "             <br />\r\n",
      "            <li><font size=\"3\"><b>ä¸»é¡å®£å°</b></font></li>\r\n",
      "            <li><a href=\"http://webs.must.edu.tw/ocmust004/\" target=\"_blank\">ä¿è­·åå°éæºæ",
      "§è²¡ç¢æ¬</a></li>\r\n",
      "            <li><a href=\"http://webs.must.edu.tw/ocmust004/\" target=\"_blank\">åè³ä¿è­·å°å</a></li>\r\n",
      "            <li><a href=\"http://www.165.gov.tw/\" target=\"_blank\">è­¦æ¿ç½²åè©é¨165</a></li>\r\n",
      "\t    <li><a href=\"http://admin.must.edu.tw/upfiles/ADUpload/oc_downmul1502646333.pdf \" target=\"_blank\">è³è¨å®å",
      "¨æ¿ç­(PDFæ ¼å¼)</a></li>\r\n",
      "          </ul>\r\n",
      "          <!-- ################################################################################################ --> \r\n",
      "        </div>\r\n",
      "        <div class=\"one_quarter\"> \r\n",
      "          <!-- ################################################################################################ -->\r\n",
      "          <ul class=\"nospace\">\r\n",
      "            \r\n",
      "            <li><font size=\"3\"><b>æ±è·è¨æ¯/æ¿ä»¤å®£å°</b></font></li> \r\n",
      "            <li><a href=\"http://pipa.moj.gov.tw/\" target=\"_blank\">æ³åé¨ãåäººè³æä¿è­·å°åã</a></li>\r\n",
      "            <li><a href=\"https://ucan.moe.edu.tw/Account/Login.aspx\" target=\"_blank\">UCANå¤§å°æ ¡é¢å°±è·å¹³å°ç¶²ç«</a></li>\r\n",
      "            <li><a href=\"http://www.104.com.tw/\" target=\"_blank\">104äººåéè¡</a></li>\r\n",
      "            <li><a href=\"http://www.1111.com.tw/\" target=\"_blank\">1111äººåéè¡</a></li>\r\n",
      "            <li><a href=\"http://young.ejob.gov.tw/\" target=\"_blank\">éå¹´åå¤¢ç¶²</a></li>\r\n",
      "            <li><a href=\"http://www.moex.gov.tw/\" target=\"_blank\">èé¸é¨å",
      "¨çè³è¨ç¶²</a></li>\r\n",
      "            <li><a href=\"http://www.twhsinchu.com/\" target=\"_blank\">æ°ç«¹ç¢æ¥­äº¤æµå¹³å°</a></li>\r\n",
      "\t    <li><a href=\"http://webc1.must.edu.tw/jtmust069\" target=\"_blank\">æ±è·å¾µæå°å </a></li>\r\n",
      "            <li><a href=\"http://webc1.must.edu.tw/jtmust069/index.php/2017-02-22-01-45-30/229-2018\" target=\"_blank\">2018æ ¡åå¾µæåè¦½æ </a></li>\r\n",
      "            </ul>\r\n",
      "          <!-- ################################################################################################ --> \r\n",
      "        </div>\r\n",
      "      </div>\r\n",
      "      <!-- ################################################################################################ --> \r\n",
      "      <!-- / main body -->\r\n",
      "      <div class=\"clear\"></div>\r\n",
      "    </main>\r\n",
      "  </div>\r\n",
      "</div>\r\n",
      "<!-- ################################################################################################ --> \r\n",
      "<!-- ################################################################################################ --> \r\n",
      "<!-- ################################################################################################ -->\r\n",
      "<div class=\"wrapper row4\">\r\n",
      "  <div class=\"rounded\">\r\n",
      "    <footer id=\"footer\" class=\"clear\"> \r\n",
      "      <!-- ################################################################################################ -->\r\n",
      "      <div class=\"one_third first\">\r\n",
      "        <figure class=\"center\">\r\n",
      "        <iframe title=\"MUST Map-æ¬æ ¡ä½æ¼æ°ç«¹ç¸£æ°è±éæ°èè·¯ä¸èãä½æ¼ç«¹åå¾æ¹å£æ¹å1èçéå·¦å´èåº·æ¨è·¯äº¤åè·¯å£ã\" name='map' src=\"https://www.google.com/maps/embed?pb=!1m18!1m12!1m3!1d3619.999953283614!2d120.98902801500292!3d24.863851184052347!2m3!1f0!2f0!3f0!3m2!1i1024!2i768!4f13.1!3m3!1m2!1s0x34683154f00767ff%3A0xc036e80a53993101!2zMzA05paw56u557ij5paw6LGQ6YSJ5paw6IiI6LevMeiZnw!5e0!3m2!1szh-TW!2stw!4v1444721457247\" width=\"300\" height=\"225\" frameborder=\"0\" style=\"border:0\" allowfullscreen></iframe>\r\n",
      "          \r\n",
      "        </figure>\r\n",
      "      </div>\r\n",
      "      <div class=\"one_third\">\r\n",
      "        <address>\r\n",
      "         ææ°ç§æå¤§å­¸<a href=\"http://webs.must.edu.tw/pagecount/page_list.php?FileName=must_school\" target=\"_blank\"><img src=\"icon.png\"></a><br>\r\n",
      "         Minghsin University of Science and Technology <br>\r\n",
      "         å°åï¼30401æ°ç«¹ç¸£æ°è±éæ°èè·¯1è<br>\r\n",
      "         Address<br>\r\n",
      "         No.1, Xinxing Rd., Xinfeng Hsinchu 30401, Taiwan(R.O.C) <br>\r\n",
      "        <br>\r\n",
      "        <i class=\"fa fa-phone pright-10\"></i> é»è©±/å³çï¼(03)5593142 / <br /> (03)5595142 <br />\r\n",
      "        <i class=\"fa fa-phone pright-10\"></i> TEL/FAXï¼ï¼+886-3-5593142 / +886-3-5595142 <br />\r\n",
      "        <i class=\"fa fa-envelope-o pright-10\"></i> <a href=\"http://www.must.edu.tw/about/contact.html\" title=\"åå¾èæè¯çµ¡é£çµ\">Contact Us</a>\r\n",
      "        </address>\r\n",
      "      </div>\r\n",
      "      <div class=\"one_third\">\r\n",
      "        <p class=\"nospace btmspace-10\">What's News!Watch This!</p>\r\n",
      "\t\t<div class=\"imgl borderedbox\">\r\n",
      "\t\t<img src=\"http://qr-official.line.me/L/jsoAW0_CS6.png\" style=\"height:120px; width:120px;\">\r\n",
      "\t\t<a href=\"https://line.me/R/ti/p/%40ywx9970x\"><img style=\"height:40px; width:100px;\" border=\"0\" alt=\"å å",
      "¥å¥½å\" src=\"https://scdn.line-apps.com/n/line_add_friends/btn/zh-Hant.png\"></a>\r\n",
      "\t\t</div>\r\n",
      "        <ul class=\"faico clear\">\r\n",
      "          <li><a class=\"faicon-facebook\" href=\"https://www.facebook.com/mustminghsin\" title=\"ææ°èæ¸ç²çµ²é é¢\"><i class=\"fa fa-facebook\"></i></a></li>\r\n",
      "          <!--<li><a class=\"faicon-rss\" href=\"http://www.must.edu.tw/rss.aspx\"><i class=\"fa fa-rss\"></i></a></li>-->\r\n",
      "          <li><a href=\" https://play.google.com/store/apps/details?id=tw.edu.must.appmust\"><img src=\"ico/must3.ico\" alt=\"mustApp\" title=\"ææ°è¡åAPPä¸è¼\"></a></li>\r\n",
      "\t\t  <li></li>\r\n",
      "\t\t  \r\n",
      "        </ul>\r\n",
      "        \r\n",
      "      </div>\r\n",
      "\t  <div><a href=\"http://www.handicap-free.nat.gov.tw/Applications/Detail?category=20161027164651\" title=\"ç¡éç¤ç¶²ç«\"><img src=\"images/demo/A.jpg\" border=\"0\" width=\"88\" height=\"31\" alt=\"ééA+åªå",
      "ç­ç´ç¡éç¤ç¶²é æª¢æ¸¬\" /></a> </div>\r\n",
      "\t    \r\n",
      "\t  <!-- ################################################################################################ --> \r\n",
      "\t\t\r\n",
      "\t</footer>\r\n",
      "  </div>\r\n",
      "</div>\r\n",
      "<!-- ################################################################################################ --> \r\n",
      "<!-- ################################################################################################ --> \r\n",
      "<!-- ################################################################################################ -->\r\n",
      "<div class=\"wrapper row5\">\r\n",
      "  <a href=\"#_bottom\" accesskey=\"B\" title=\"ç¶²é æä¸æ¹\">:::ä¸æ¹</a>  \r\n",
      "  <div id=\"copyright\" class=\"clear\"> \r\n",
      "\r\n",
      "    <!-- ################################################################################################ -->\r\n",
      "    <p class=\"fl_left\">Copyright &copy; 2015 - All Rights Reserved - <a href=\"#\">Minghsin University of Science and Technology</a></p>\r\n",
      "    <p class=\"fl_right\">Template by <a target=\"_blank\" href=\"http://www.os-templates.com/\" title=\"Free Website Templates\">OS Templates</a></p>\r\n",
      "    \r\n",
      "    <!-- ################################################################################################ --> \r\n",
      "  </div>\r\n",
      "  \r\n",
      "</div>\r\n",
      "<!-- JAVASCRIPTS --> \r\n",
      "<script src=\"layout/scripts/jquery.min.js\"></script> \r\n",
      "<script src=\"layout/scripts/jquery.fitvids.min.js\"></script> \r\n",
      "<script src=\"layout/scripts/jquery.mobilemenu.js\"></script> \r\n",
      "<script src=\"layout/scripts/tabslet/jquery.tabslet.min.js\"></script>\r\n",
      "</body>\r\n",
      "</html>\n"
     ]
    }
   ],
   "source": [
    "#網路爬蟲\n",
    "import requests\n",
    "c=requests.get(\"http://www.must.edu.tw\")\n",
    "print(c.text)"
   ]
  },
  {
   "cell_type": "markdown",
   "metadata": {},
   "source": [
    "變數的設定"
   ]
  },
  {
   "cell_type": "code",
   "execution_count": 4,
   "metadata": {},
   "outputs": [
    {
     "name": "stdout",
     "output_type": "stream",
     "text": [
      "11\n",
      "10\n"
     ]
    }
   ],
   "source": [
    "x=1\n",
    "y=10*x\n",
    "x=x+y\n",
    "print(x)\n",
    "print(y)"
   ]
  },
  {
   "cell_type": "code",
   "execution_count": 5,
   "metadata": {},
   "outputs": [
    {
     "name": "stdout",
     "output_type": "stream",
     "text": [
      "4\n",
      "3\n"
     ]
    }
   ],
   "source": [
    "#交換兩個變數的值\n",
    "x,y=3,4\n",
    "x,y=y,x\n",
    "print(x)\n",
    "print(y)"
   ]
  },
  {
   "cell_type": "code",
   "execution_count": 6,
   "metadata": {},
   "outputs": [
    {
     "name": "stdout",
     "output_type": "stream",
     "text": [
      "4 8 125\n"
     ]
    }
   ],
   "source": [
    "#複合設定運算\n",
    "x,y,z=3,4,5\n",
    "x+=1 #x=x+1\n",
    "y*=2 #y=y*2\n",
    "z**=3 #z=z**3\n",
    "print(x,y,z)"
   ]
  },
  {
   "cell_type": "code",
   "execution_count": 8,
   "metadata": {},
   "outputs": [
    {
     "name": "stdout",
     "output_type": "stream",
     "text": [
      "6.0\n",
      "126.8857754044952\n"
     ]
    }
   ],
   "source": [
    "#三角形的面積\n",
    "import math\n",
    "a,b,c=3,4,5\n",
    "s=(a+b+c)/2\n",
    "area=math.sqrt(s*(s-a)*(s-b)*(s-c))\n",
    "print(area)\n",
    "a,b,c=12,33,25\n",
    "s=(a+b+c)/2\n",
    "area=math.sqrt(s*(s-a)*(s-b)*(s-c))\n",
    "print(area)"
   ]
  },
  {
   "cell_type": "code",
   "execution_count": 3,
   "metadata": {},
   "outputs": [
    {
     "name": "stdout",
     "output_type": "stream",
     "text": [
      "<class 'int'>\n",
      "<class 'str'>\n",
      "<class 'float'>\n",
      "<class 'bool'>\n"
     ]
    }
   ],
   "source": [
    "#Python不需要宣告變數型態\n",
    "x=254\n",
    "print(type(x))\n",
    "x=\"write\"\n",
    "print(type(x))\n",
    "x=254.0\n",
    "print(type(x))\n",
    "x=True          #T要大寫\n",
    "print(type(x))"
   ]
  },
  {
   "cell_type": "code",
   "execution_count": 4,
   "metadata": {},
   "outputs": [
    {
     "name": "stdout",
     "output_type": "stream",
     "text": [
      "7\n",
      "95\n",
      "255\n"
     ]
    }
   ],
   "source": [
    "#2,8,16 進位\n",
    "print(0b111)   #b:binary 二進位\n",
    "print(0o137)\n",
    "print(0xff)"
   ]
  },
  {
   "cell_type": "code",
   "execution_count": 8,
   "metadata": {},
   "outputs": [
    {
     "name": "stdout",
     "output_type": "stream",
     "text": [
      "381.7035074111598\n"
     ]
    }
   ],
   "source": [
    "import math\n",
    "print(4*(math.pi*4.5*4.5*4.5)/3)"
   ]
  },
  {
   "cell_type": "code",
   "execution_count": 9,
   "metadata": {
    "scrolled": true
   },
   "outputs": [
    {
     "name": "stdout",
     "output_type": "stream",
     "text": [
      "0.0015926269999999576\n"
     ]
    }
   ],
   "source": [
    "#不宣告型態的方法會有誤差\n",
    "x=3.141592627\n",
    "print(x-3.14)"
   ]
  },
  {
   "cell_type": "code",
   "execution_count": 2,
   "metadata": {},
   "outputs": [
    {
     "data": {
      "image/png": "[encoded data removed]",
      "text/plain": [
       "<matplotlib.figure.Figure at 0x7261b00>"
      ]
     },
     "metadata": {},
     "output_type": "display_data"
    }
   ],
   "source": [
    "#畫出折現圖\n",
    "import matplotlib.pyplot as pt\n",
    "x=[1,2,3,4,5]\n",
    "y=[7,2,3,6,7]\n",
    "pt.plot(x,y)\n",
    "pt.show()"
   ]
  },
  {
   "cell_type": "code",
   "execution_count": 19,
   "metadata": {},
   "outputs": [
    {
     "data": {
      "image/png": "[encoded data removed]",
      "text/plain": [
       "<matplotlib.figure.Figure at 0x83ffda0>"
      ]
     },
     "metadata": {},
     "output_type": "display_data"
    }
   ],
   "source": [
    "import matplotlib.pyplot as pt\n",
    "x=[1,2,3,4,5]\n",
    "y=[7,2,3,6,7]\n",
    "z=[6,5,7,3,1]\n",
    "pt.plot(x,y,color=\"red\",label=\"March\")  #畫出折現圖  ; 顏色預設為藍色\n",
    "pt.plot(x,z,\"--\",label=\"April\")   # --虛線 , ^三角形  ,s正方形\n",
    "pt.legend()   #秀出label\n",
    "pt.show()"
   ]
  },
  {
   "cell_type": "code",
   "execution_count": 20,
   "metadata": {},
   "outputs": [
    {
     "data": {
      "image/png": "[encoded data removed]",
      "text/plain": [
       "<matplotlib.figure.Figure at 0x87c8438>"
      ]
     },
     "metadata": {},
     "output_type": "display_data"
    }
   ],
   "source": [
    "import matplotlib.pyplot as pt\n",
    "x=[1,2,3,4,5]\n",
    "y=[7,2,3,6,7]\n",
    "pt.bar(x,y)   #畫出長條圖\n",
    "pt.show()"
   ]
  },
  {
   "cell_type": "code",
   "execution_count": 21,
   "metadata": {},
   "outputs": [
    {
     "data": {
      "image/png": "[encoded data removed]",
      "text/plain": [
       "<matplotlib.figure.Figure at 0x887ca90>"
      ]
     },
     "metadata": {},
     "output_type": "display_data"
    }
   ],
   "source": [
    "import matplotlib.pyplot as pt\n",
    "x=[1,2,3,4,5]\n",
    "y=[7,2,3,6,7]\n",
    "pt.scatter(x,y)  #畫出點狀圖\n",
    "pt.show()"
   ]
  },
  {
   "cell_type": "code",
   "execution_count": 22,
   "metadata": {
    "scrolled": true
   },
   "outputs": [
    {
     "data": {
      "image/png": "[encoded data removed]",
      "text/plain": [
       "<matplotlib.figure.Figure at 0x9fcbb70>"
      ]
     },
     "metadata": {},
     "output_type": "display_data"
    }
   ],
   "source": [
    "# 畫出隨機50個點\n",
    "import numpy as np\n",
    "import matplotlib.pyplot as pt\n",
    "x=np.random.random(50)\n",
    "y=np.random.random(50)\n",
    "pt.scatter(x,y)\n",
    "pt.show()"
   ]
  },
  {
   "cell_type": "markdown",
   "metadata": {},
   "source": [
    "Sin曲線"
   ]
  },
  {
   "cell_type": "code",
   "execution_count": 3,
   "metadata": {},
   "outputs": [
    {
     "data": {
      "image/png": "[encoded data removed]",
      "text/plain": [
       "<matplotlib.figure.Figure at 0x9129e80>"
      ]
     },
     "metadata": {},
     "output_type": "display_data"
    }
   ],
   "source": [
    "import numpy as np\n",
    "import matplotlib.pyplot as pt\n",
    "x=np.arange(0,360)\n",
    "y=np.sin(x*np.pi/180)\n",
    "pt.plot(x,y)\n",
    "pt.show()"
   ]
  },
  {
   "cell_type": "code",
   "execution_count": 34,
   "metadata": {},
   "outputs": [
    {
     "data": {
      "image/png": "[encoded data removed]",
      "text/plain": [
       "<matplotlib.figure.Figure at 0x9fd80b8>"
      ]
     },
     "metadata": {},
     "output_type": "display_data"
    }
   ],
   "source": [
    "import numpy as np\n",
    "import matplotlib.pyplot as pt\n",
    "x=np.arange(0,360)    # x:從 0 到 360度\n",
    "y=np.sin(x*np.pi/180)   \n",
    "pt.xlim(0,360)     #x軸長度限制\n",
    "pt.ylim(-3.2,3.2)   #y軸長度限制\n",
    "pt.title(\"Sin Wave\")\n",
    "pt.xlabel(\"Degree\")  #x軸標籤\n",
    "pt.ylabel(\"Value\")\n",
    "pt.plot(x,y)\n",
    "pt.show()"
   ]
  },
  {
   "cell_type": "code",
   "execution_count": 37,
   "metadata": {
    "scrolled": false
   },
   "outputs": [
    {
     "data": {
      "image/png": "[encoded data removed]",
      "text/plain": [
       "<matplotlib.figure.Figure at 0x87be198>"
      ]
     },
     "metadata": {},
     "output_type": "display_data"
    }
   ],
   "source": [
    "import numpy as np\n",
    "import matplotlib.pyplot as pt\n",
    "x=np.arange(0,360)\n",
    "y=np.sin(x*np.pi/180)\n",
    "z=np.cos(x*np.pi/180)\n",
    "pt.xlim(0,360)\n",
    "pt.ylim(-1.2,1.2)\n",
    "pt.title(\"Sin & Cos Wave\")\n",
    "pt.xlabel(\"Degree\")\n",
    "pt.ylabel(\"Value\")\n",
    "pt.plot(x,y,label=\"sin\")\n",
    "pt.plot(x,z,label=\"cos\")\n",
    "pt.legend()\n",
    "pt.show()"
   ]
  },
  {
   "cell_type": "markdown",
   "metadata": {},
   "source": [
    "Scikit Learn 機器學習"
   ]
  },
  {
   "cell_type": "code",
   "execution_count": 1,
   "metadata": {},
   "outputs": [
    {
     "data": {
      "text/plain": [
       "{'DESCR': 'Iris Plants Database\\n====================\\n\\nNotes\\n-----\\nData Set Characteristics:\\n    :Number of Instances: 150 (50 in each of three classes)\\n    :Number of Attributes: 4 numeric, predictive attributes and the class\\n    :Attribute Information:\\n        - sepal length in cm\\n        - sepal width in cm\\n        - petal length in cm\\n        - petal width in cm\\n        - class:\\n                - Iris-Setosa\\n                - Iris-Versicolour\\n                - Iris-Virginica\\n    :Summary Statistics:\\n\\n    ============== ==== ==== ======= ===== ====================\\n                    Min  Max   Mean    SD   Class Correlation\\n    ============== ==== ==== ======= ===== ====================\\n    sepal length:   4.3  7.9   5.84   0.83    0.7826\\n    sepal width:    2.0  4.4   3.05   0.43   -0.4194\\n    petal length:   1.0  6.9   3.76   1.76    0.9490  (high!)\\n    petal width:    0.1  2.5   1.20  0.76     0.9565  (high!)\\n    ============== ==== ==== ======= ===== ====================\\n\\n    :Missing Attribute Values: None\\n    :Class Distribution: 33.3% for each of 3 classes.\\n    :Creator: R.A. Fisher\\n    :Donor: Michael Marshall (MARSHALL%PLU@io.arc.nasa.gov)\\n    :Date: July, 1988\\n\\nThis is a copy of UCI ML iris datasets.\\nhttp://archive.ics.uci.edu/ml/datasets/Iris\\n\\nThe famous Iris database, first used by Sir R.A Fisher\\n\\nThis is perhaps the best known database to be found in the\\npattern recognition literature.  Fisher\\'s paper is a classic in the field and\\nis referenced frequently to this day.  (See Duda & Hart, for example.)  The\\ndata set contains 3 classes of 50 instances each, where each class refers to a\\ntype of iris plant.  One class is linearly separable from the other 2; the\\nlatter are NOT linearly separable from each other.\\n\\nReferences\\n----------\\n   - Fisher,R.A. \"The use of multiple measurements in taxonomic problems\"\\n     Annual Eugenics, 7, Part II, 179-188 (1936); also in \"Contributions to\\n     Mathematical Statistics\" (John Wiley, NY, 1950).\\n   - Duda,R.O., & Hart,P.E. (1973) Pattern Classification and Scene Analysis.\\n     (Q327.D83) John Wiley & Sons.  ISBN 0-471-22361-1.  See page 218.\\n   - Dasarathy, B.V. (1980) \"Nosing Around the Neighborhood: A New System\\n     Structure and Classification Rule for Recognition in Partially Exposed\\n     Environments\".  IEEE Transactions on Pattern Analysis and Machine\\n     Intelligence, Vol. PAMI-2, No. 1, 67-71.\\n   - Gates, G.W. (1972) \"The Reduced Nearest Neighbor Rule\".  IEEE Transactions\\n     on Information Theory, May 1972, 431-433.\\n   - See also: 1988 MLC Proceedings, 54-64.  Cheeseman et al\"s AUTOCLASS II\\n     conceptual clustering system finds 3 classes in the data.\\n   - Many, many more ...\\n',\n",
       " 'data': array([[ 5.1,  3.5,  1.4,  0.2],\n",
       "        [ 4.9,  3. ,  1.4,  0.2],\n",
       "        [ 4.7,  3.2,  1.3,  0.2],\n",
       "        [ 4.6,  3.1,  1.5,  0.2],\n",
       "        [ 5. ,  3.6,  1.4,  0.2],\n",
       "        [ 5.4,  3.9,  1.7,  0.4],\n",
       "        [ 4.6,  3.4,  1.4,  0.3],\n",
       "        [ 5. ,  3.4,  1.5,  0.2],\n",
       "        [ 4.4,  2.9,  1.4,  0.2],\n",
       "        [ 4.9,  3.1,  1.5,  0.1],\n",
       "        [ 5.4,  3.7,  1.5,  0.2],\n",
       "        [ 4.8,  3.4,  1.6,  0.2],\n",
       "        [ 4.8,  3. ,  1.4,  0.1],\n",
       "        [ 4.3,  3. ,  1.1,  0.1],\n",
       "        [ 5.8,  4. ,  1.2,  0.2],\n",
       "        [ 5.7,  4.4,  1.5,  0.4],\n",
       "        [ 5.4,  3.9,  1.3,  0.4],\n",
       "        [ 5.1,  3.5,  1.4,  0.3],\n",
       "        [ 5.7,  3.8,  1.7,  0.3],\n",
       "        [ 5.1,  3.8,  1.5,  0.3],\n",
       "        [ 5.4,  3.4,  1.7,  0.2],\n",
       "        [ 5.1,  3.7,  1.5,  0.4],\n",
       "        [ 4.6,  3.6,  1. ,  0.2],\n",
       "        [ 5.1,  3.3,  1.7,  0.5],\n",
       "        [ 4.8,  3.4,  1.9,  0.2],\n",
       "        [ 5. ,  3. ,  1.6,  0.2],\n",
       "        [ 5. ,  3.4,  1.6,  0.4],\n",
       "        [ 5.2,  3.5,  1.5,  0.2],\n",
       "        [ 5.2,  3.4,  1.4,  0.2],\n",
       "        [ 4.7,  3.2,  1.6,  0.2],\n",
       "        [ 4.8,  3.1,  1.6,  0.2],\n",
       "        [ 5.4,  3.4,  1.5,  0.4],\n",
       "        [ 5.2,  4.1,  1.5,  0.1],\n",
       "        [ 5.5,  4.2,  1.4,  0.2],\n",
       "        [ 4.9,  3.1,  1.5,  0.1],\n",
       "        [ 5. ,  3.2,  1.2,  0.2],\n",
       "        [ 5.5,  3.5,  1.3,  0.2],\n",
       "        [ 4.9,  3.1,  1.5,  0.1],\n",
       "        [ 4.4,  3. ,  1.3,  0.2],\n",
       "        [ 5.1,  3.4,  1.5,  0.2],\n",
       "        [ 5. ,  3.5,  1.3,  0.3],\n",
       "        [ 4.5,  2.3,  1.3,  0.3],\n",
       "        [ 4.4,  3.2,  1.3,  0.2],\n",
       "        [ 5. ,  3.5,  1.6,  0.6],\n",
       "        [ 5.1,  3.8,  1.9,  0.4],\n",
       "        [ 4.8,  3. ,  1.4,  0.3],\n",
       "        [ 5.1,  3.8,  1.6,  0.2],\n",
       "        [ 4.6,  3.2,  1.4,  0.2],\n",
       "        [ 5.3,  3.7,  1.5,  0.2],\n",
       "        [ 5. ,  3.3,  1.4,  0.2],\n",
       "        [ 7. ,  3.2,  4.7,  1.4],\n",
       "        [ 6.4,  3.2,  4.5,  1.5],\n",
       "        [ 6.9,  3.1,  4.9,  1.5],\n",
       "        [ 5.5,  2.3,  4. ,  1.3],\n",
       "        [ 6.5,  2.8,  4.6,  1.5],\n",
       "        [ 5.7,  2.8,  4.5,  1.3],\n",
       "        [ 6.3,  3.3,  4.7,  1.6],\n",
       "        [ 4.9,  2.4,  3.3,  1. ],\n",
       "        [ 6.6,  2.9,  4.6,  1.3],\n",
       "        [ 5.2,  2.7,  3.9,  1.4],\n",
       "        [ 5. ,  2. ,  3.5,  1. ],\n",
       "        [ 5.9,  3. ,  4.2,  1.5],\n",
       "        [ 6. ,  2.2,  4. ,  1. ],\n",
       "        [ 6.1,  2.9,  4.7,  1.4],\n",
       "        [ 5.6,  2.9,  3.6,  1.3],\n",
       "        [ 6.7,  3.1,  4.4,  1.4],\n",
       "        [ 5.6,  3. ,  4.5,  1.5],\n",
       "        [ 5.8,  2.7,  4.1,  1. ],\n",
       "        [ 6.2,  2.2,  4.5,  1.5],\n",
       "        [ 5.6,  2.5,  3.9,  1.1],\n",
       "        [ 5.9,  3.2,  4.8,  1.8],\n",
       "        [ 6.1,  2.8,  4. ,  1.3],\n",
       "        [ 6.3,  2.5,  4.9,  1.5],\n",
       "        [ 6.1,  2.8,  4.7,  1.2],\n",
       "        [ 6.4,  2.9,  4.3,  1.3],\n",
       "        [ 6.6,  3. ,  4.4,  1.4],\n",
       "        [ 6.8,  2.8,  4.8,  1.4],\n",
       "        [ 6.7,  3. ,  5. ,  1.7],\n",
       "        [ 6. ,  2.9,  4.5,  1.5],\n",
       "        [ 5.7,  2.6,  3.5,  1. ],\n",
       "        [ 5.5,  2.4,  3.8,  1.1],\n",
       "        [ 5.5,  2.4,  3.7,  1. ],\n",
       "        [ 5.8,  2.7,  3.9,  1.2],\n",
       "        [ 6. ,  2.7,  5.1,  1.6],\n",
       "        [ 5.4,  3. ,  4.5,  1.5],\n",
       "        [ 6. ,  3.4,  4.5,  1.6],\n",
       "        [ 6.7,  3.1,  4.7,  1.5],\n",
       "        [ 6.3,  2.3,  4.4,  1.3],\n",
       "        [ 5.6,  3. ,  4.1,  1.3],\n",
       "        [ 5.5,  2.5,  4. ,  1.3],\n",
       "        [ 5.5,  2.6,  4.4,  1.2],\n",
       "        [ 6.1,  3. ,  4.6,  1.4],\n",
       "        [ 5.8,  2.6,  4. ,  1.2],\n",
       "        [ 5. ,  2.3,  3.3,  1. ],\n",
       "        [ 5.6,  2.7,  4.2,  1.3],\n",
       "        [ 5.7,  3. ,  4.2,  1.2],\n",
       "        [ 5.7,  2.9,  4.2,  1.3],\n",
       "        [ 6.2,  2.9,  4.3,  1.3],\n",
       "        [ 5.1,  2.5,  3. ,  1.1],\n",
       "        [ 5.7,  2.8,  4.1,  1.3],\n",
       "        [ 6.3,  3.3,  6. ,  2.5],\n",
       "        [ 5.8,  2.7,  5.1,  1.9],\n",
       "        [ 7.1,  3. ,  5.9,  2.1],\n",
       "        [ 6.3,  2.9,  5.6,  1.8],\n",
       "        [ 6.5,  3. ,  5.8,  2.2],\n",
       "        [ 7.6,  3. ,  6.6,  2.1],\n",
       "        [ 4.9,  2.5,  4.5,  1.7],\n",
       "        [ 7.3,  2.9,  6.3,  1.8],\n",
       "        [ 6.7,  2.5,  5.8,  1.8],\n",
       "        [ 7.2,  3.6,  6.1,  2.5],\n",
       "        [ 6.5,  3.2,  5.1,  2. ],\n",
       "        [ 6.4,  2.7,  5.3,  1.9],\n",
       "        [ 6.8,  3. ,  5.5,  2.1],\n",
       "        [ 5.7,  2.5,  5. ,  2. ],\n",
       "        [ 5.8,  2.8,  5.1,  2.4],\n",
       "        [ 6.4,  3.2,  5.3,  2.3],\n",
       "        [ 6.5,  3. ,  5.5,  1.8],\n",
       "        [ 7.7,  3.8,  6.7,  2.2],\n",
       "        [ 7.7,  2.6,  6.9,  2.3],\n",
       "        [ 6. ,  2.2,  5. ,  1.5],\n",
       "        [ 6.9,  3.2,  5.7,  2.3],\n",
       "        [ 5.6,  2.8,  4.9,  2. ],\n",
       "        [ 7.7,  2.8,  6.7,  2. ],\n",
       "        [ 6.3,  2.7,  4.9,  1.8],\n",
       "        [ 6.7,  3.3,  5.7,  2.1],\n",
       "        [ 7.2,  3.2,  6. ,  1.8],\n",
       "        [ 6.2,  2.8,  4.8,  1.8],\n",
       "        [ 6.1,  3. ,  4.9,  1.8],\n",
       "        [ 6.4,  2.8,  5.6,  2.1],\n",
       "        [ 7.2,  3. ,  5.8,  1.6],\n",
       "        [ 7.4,  2.8,  6.1,  1.9],\n",
       "        [ 7.9,  3.8,  6.4,  2. ],\n",
       "        [ 6.4,  2.8,  5.6,  2.2],\n",
       "        [ 6.3,  2.8,  5.1,  1.5],\n",
       "        [ 6.1,  2.6,  5.6,  1.4],\n",
       "        [ 7.7,  3. ,  6.1,  2.3],\n",
       "        [ 6.3,  3.4,  5.6,  2.4],\n",
       "        [ 6.4,  3.1,  5.5,  1.8],\n",
       "        [ 6. ,  3. ,  4.8,  1.8],\n",
       "        [ 6.9,  3.1,  5.4,  2.1],\n",
       "        [ 6.7,  3.1,  5.6,  2.4],\n",
       "        [ 6.9,  3.1,  5.1,  2.3],\n",
       "        [ 5.8,  2.7,  5.1,  1.9],\n",
       "        [ 6.8,  3.2,  5.9,  2.3],\n",
       "        [ 6.7,  3.3,  5.7,  2.5],\n",
       "        [ 6.7,  3. ,  5.2,  2.3],\n",
       "        [ 6.3,  2.5,  5. ,  1.9],\n",
       "        [ 6.5,  3. ,  5.2,  2. ],\n",
       "        [ 6.2,  3.4,  5.4,  2.3],\n",
       "        [ 5.9,  3. ,  5.1,  1.8]]),\n",
       " 'feature_names': ['sepal length (cm)',\n",
       "  'sepal width (cm)',\n",
       "  'petal length (cm)',\n",
       "  'petal width (cm)'],\n",
       " 'target': array([0, 0, 0, 0, 0, 0, 0, 0, 0, 0, 0, 0, 0, 0, 0, 0, 0, 0, 0, 0, 0, 0, 0,\n",
       "        0, 0, 0, 0, 0, 0, 0, 0, 0, 0, 0, 0, 0, 0, 0, 0, 0, 0, 0, 0, 0, 0, 0,\n",
       "        0, 0, 0, 0, 1, 1, 1, 1, 1, 1, 1, 1, 1, 1, 1, 1, 1, 1, 1, 1, 1, 1, 1,\n",
       "        1, 1, 1, 1, 1, 1, 1, 1, 1, 1, 1, 1, 1, 1, 1, 1, 1, 1, 1, 1, 1, 1, 1,\n",
       "        1, 1, 1, 1, 1, 1, 1, 1, 2, 2, 2, 2, 2, 2, 2, 2, 2, 2, 2, 2, 2, 2, 2,\n",
       "        2, 2, 2, 2, 2, 2, 2, 2, 2, 2, 2, 2, 2, 2, 2, 2, 2, 2, 2, 2, 2, 2, 2,\n",
       "        2, 2, 2, 2, 2, 2, 2, 2, 2, 2, 2, 2]),\n",
       " 'target_names': array(['setosa', 'versicolor', 'virginica'],\n",
       "       dtype='<U10')}"
      ]
     },
     "execution_count": 1,
     "metadata": {},
     "output_type": "execute_result"
    }
   ],
   "source": [
    "#Scikit Learn 機器學習 \n",
    "from sklearn import datasets  #datasets是資料集\n",
    "iris=datasets.load_iris()  #iris是鳶尾花的資料庫\n",
    "iris"
   ]
  },
  {
   "cell_type": "code",
   "execution_count": 2,
   "metadata": {},
   "outputs": [
    {
     "name": "stdout",
     "output_type": "stream",
     "text": [
      "Iris Plants Database\n",
      "====================\n",
      "\n",
      "Notes\n",
      "-----\n",
      "Data Set Characteristics:\n",
      "    :Number of Instances: 150 (50 in each of three classes)\n",
      "    :Number of Attributes: 4 numeric, predictive attributes and the class\n",
      "    :Attribute Information:\n",
      "        - sepal length in cm\n",
      "        - sepal width in cm\n",
      "        - petal length in cm\n",
      "        - petal width in cm\n",
      "        - class:\n",
      "                - Iris-Setosa\n",
      "                - Iris-Versicolour\n",
      "                - Iris-Virginica\n",
      "    :Summary Statistics:\n",
      "\n",
      "    ============== ==== ==== ======= ===== ====================\n",
      "                    Min  Max   Mean    SD   Class Correlation\n",
      "    ============== ==== ==== ======= ===== ====================\n",
      "    sepal length:   4.3  7.9   5.84   0.83    0.7826\n",
      "    sepal width:    2.0  4.4   3.05   0.43   -0.4194\n",
      "    petal length:   1.0  6.9   3.76   1.76    0.9490  (high!)\n",
      "    petal width:    0.1  2.5   1.20  0.76     0.9565  (high!)\n",
      "    ============== ==== ==== ======= ===== ====================\n",
      "\n",
      "    :Missing Attribute Values: None\n",
      "    :Class Distribution: 33.3% for each of 3 classes.\n",
      "    :Creator: R.A. Fisher\n",
      "    :Donor: Michael Marshall (MARSHALL%PLU@io.arc.nasa.gov)\n",
      "    :Date: July, 1988\n",
      "\n",
      "This is a copy of UCI ML iris datasets.\n",
      "http://archive.ics.uci.edu/ml/datasets/Iris\n",
      "\n",
      "The famous Iris database, first used by Sir R.A Fisher\n",
      "\n",
      "This is perhaps the best known database to be found in the\n",
      "pattern recognition literature.  Fisher's paper is a classic in the field and\n",
      "is referenced frequently to this day.  (See Duda & Hart, for example.)  The\n",
      "data set contains 3 classes of 50 instances each, where each class refers to a\n",
      "type of iris plant.  One class is linearly separable from the other 2; the\n",
      "latter are NOT linearly separable from each other.\n",
      "\n",
      "References\n",
      "----------\n",
      "   - Fisher,R.A. \"The use of multiple measurements in taxonomic problems\"\n",
      "     Annual Eugenics, 7, Part II, 179-188 (1936); also in \"Contributions to\n",
      "     Mathematical Statistics\" (John Wiley, NY, 1950).\n",
      "   - Duda,R.O., & Hart,P.E. (1973) Pattern Classification and Scene Analysis.\n",
      "     (Q327.D83) John Wiley & Sons.  ISBN 0-471-22361-1.  See page 218.\n",
      "   - Dasarathy, B.V. (1980) \"Nosing Around the Neighborhood: A New System\n",
      "     Structure and Classification Rule for Recognition in Partially Exposed\n",
      "     Environments\".  IEEE Transactions on Pattern Analysis and Machine\n",
      "     Intelligence, Vol. PAMI-2, No. 1, 67-71.\n",
      "   - Gates, G.W. (1972) \"The Reduced Nearest Neighbor Rule\".  IEEE Transactions\n",
      "     on Information Theory, May 1972, 431-433.\n",
      "   - See also: 1988 MLC Proceedings, 54-64.  Cheeseman et al\"s AUTOCLASS II\n",
      "     conceptual clustering system finds 3 classes in the data.\n",
      "   - Many, many more ...\n",
      "\n",
      "['sepal length (cm)', 'sepal width (cm)', 'petal length (cm)', 'petal width (cm)']\n",
      "[[ 5.1  3.5  1.4  0.2]\n",
      " [ 4.9  3.   1.4  0.2]\n",
      " [ 4.7  3.2  1.3  0.2]\n",
      " [ 4.6  3.1  1.5  0.2]\n",
      " [ 5.   3.6  1.4  0.2]\n",
      " [ 5.4  3.9  1.7  0.4]\n",
      " [ 4.6  3.4  1.4  0.3]\n",
      " [ 5.   3.4  1.5  0.2]\n",
      " [ 4.4  2.9  1.4  0.2]\n",
      " [ 4.9  3.1  1.5  0.1]\n",
      " [ 5.4  3.7  1.5  0.2]\n",
      " [ 4.8  3.4  1.6  0.2]\n",
      " [ 4.8  3.   1.4  0.1]\n",
      " [ 4.3  3.   1.1  0.1]\n",
      " [ 5.8  4.   1.2  0.2]\n",
      " [ 5.7  4.4  1.5  0.4]\n",
      " [ 5.4  3.9  1.3  0.4]\n",
      " [ 5.1  3.5  1.4  0.3]\n",
      " [ 5.7  3.8  1.7  0.3]\n",
      " [ 5.1  3.8  1.5  0.3]\n",
      " [ 5.4  3.4  1.7  0.2]\n",
      " [ 5.1  3.7  1.5  0.4]\n",
      " [ 4.6  3.6  1.   0.2]\n",
      " [ 5.1  3.3  1.7  0.5]\n",
      " [ 4.8  3.4  1.9  0.2]\n",
      " [ 5.   3.   1.6  0.2]\n",
      " [ 5.   3.4  1.6  0.4]\n",
      " [ 5.2  3.5  1.5  0.2]\n",
      " [ 5.2  3.4  1.4  0.2]\n",
      " [ 4.7  3.2  1.6  0.2]\n",
      " [ 4.8  3.1  1.6  0.2]\n",
      " [ 5.4  3.4  1.5  0.4]\n",
      " [ 5.2  4.1  1.5  0.1]\n",
      " [ 5.5  4.2  1.4  0.2]\n",
      " [ 4.9  3.1  1.5  0.1]\n",
      " [ 5.   3.2  1.2  0.2]\n",
      " [ 5.5  3.5  1.3  0.2]\n",
      " [ 4.9  3.1  1.5  0.1]\n",
      " [ 4.4  3.   1.3  0.2]\n",
      " [ 5.1  3.4  1.5  0.2]\n",
      " [ 5.   3.5  1.3  0.3]\n",
      " [ 4.5  2.3  1.3  0.3]\n",
      " [ 4.4  3.2  1.3  0.2]\n",
      " [ 5.   3.5  1.6  0.6]\n",
      " [ 5.1  3.8  1.9  0.4]\n",
      " [ 4.8  3.   1.4  0.3]\n",
      " [ 5.1  3.8  1.6  0.2]\n",
      " [ 4.6  3.2  1.4  0.2]\n",
      " [ 5.3  3.7  1.5  0.2]\n",
      " [ 5.   3.3  1.4  0.2]\n",
      " [ 7.   3.2  4.7  1.4]\n",
      " [ 6.4  3.2  4.5  1.5]\n",
      " [ 6.9  3.1  4.9  1.5]\n",
      " [ 5.5  2.3  4.   1.3]\n",
      " [ 6.5  2.8  4.6  1.5]\n",
      " [ 5.7  2.8  4.5  1.3]\n",
      " [ 6.3  3.3  4.7  1.6]\n",
      " [ 4.9  2.4  3.3  1. ]\n",
      " [ 6.6  2.9  4.6  1.3]\n",
      " [ 5.2  2.7  3.9  1.4]\n",
      " [ 5.   2.   3.5  1. ]\n",
      " [ 5.9  3.   4.2  1.5]\n",
      " [ 6.   2.2  4.   1. ]\n",
      " [ 6.1  2.9  4.7  1.4]\n",
      " [ 5.6  2.9  3.6  1.3]\n",
      " [ 6.7  3.1  4.4  1.4]\n",
      " [ 5.6  3.   4.5  1.5]\n",
      " [ 5.8  2.7  4.1  1. ]\n",
      " [ 6.2  2.2  4.5  1.5]\n",
      " [ 5.6  2.5  3.9  1.1]\n",
      " [ 5.9  3.2  4.8  1.8]\n",
      " [ 6.1  2.8  4.   1.3]\n",
      " [ 6.3  2.5  4.9  1.5]\n",
      " [ 6.1  2.8  4.7  1.2]\n",
      " [ 6.4  2.9  4.3  1.3]\n",
      " [ 6.6  3.   4.4  1.4]\n",
      " [ 6.8  2.8  4.8  1.4]\n",
      " [ 6.7  3.   5.   1.7]\n",
      " [ 6.   2.9  4.5  1.5]\n",
      " [ 5.7  2.6  3.5  1. ]\n",
      " [ 5.5  2.4  3.8  1.1]\n",
      " [ 5.5  2.4  3.7  1. ]\n",
      " [ 5.8  2.7  3.9  1.2]\n",
      " [ 6.   2.7  5.1  1.6]\n",
      " [ 5.4  3.   4.5  1.5]\n",
      " [ 6.   3.4  4.5  1.6]\n",
      " [ 6.7  3.1  4.7  1.5]\n",
      " [ 6.3  2.3  4.4  1.3]\n",
      " [ 5.6  3.   4.1  1.3]\n",
      " [ 5.5  2.5  4.   1.3]\n",
      " [ 5.5  2.6  4.4  1.2]\n",
      " [ 6.1  3.   4.6  1.4]\n",
      " [ 5.8  2.6  4.   1.2]\n",
      " [ 5.   2.3  3.3  1. ]\n",
      " [ 5.6  2.7  4.2  1.3]\n",
      " [ 5.7  3.   4.2  1.2]\n",
      " [ 5.7  2.9  4.2  1.3]\n",
      " [ 6.2  2.9  4.3  1.3]\n",
      " [ 5.1  2.5  3.   1.1]\n",
      " [ 5.7  2.8  4.1  1.3]\n",
      " [ 6.3  3.3  6.   2.5]\n",
      " [ 5.8  2.7  5.1  1.9]\n",
      " [ 7.1  3.   5.9  2.1]\n",
      " [ 6.3  2.9  5.6  1.8]\n",
      " [ 6.5  3.   5.8  2.2]\n",
      " [ 7.6  3.   6.6  2.1]\n",
      " [ 4.9  2.5  4.5  1.7]\n",
      " [ 7.3  2.9  6.3  1.8]\n",
      " [ 6.7  2.5  5.8  1.8]\n",
      " [ 7.2  3.6  6.1  2.5]\n",
      " [ 6.5  3.2  5.1  2. ]\n",
      " [ 6.4  2.7  5.3  1.9]\n",
      " [ 6.8  3.   5.5  2.1]\n",
      " [ 5.7  2.5  5.   2. ]\n",
      " [ 5.8  2.8  5.1  2.4]\n",
      " [ 6.4  3.2  5.3  2.3]\n",
      " [ 6.5  3.   5.5  1.8]\n",
      " [ 7.7  3.8  6.7  2.2]\n",
      " [ 7.7  2.6  6.9  2.3]\n",
      " [ 6.   2.2  5.   1.5]\n",
      " [ 6.9  3.2  5.7  2.3]\n",
      " [ 5.6  2.8  4.9  2. ]\n",
      " [ 7.7  2.8  6.7  2. ]\n",
      " [ 6.3  2.7  4.9  1.8]\n",
      " [ 6.7  3.3  5.7  2.1]\n",
      " [ 7.2  3.2  6.   1.8]\n",
      " [ 6.2  2.8  4.8  1.8]\n",
      " [ 6.1  3.   4.9  1.8]\n",
      " [ 6.4  2.8  5.6  2.1]\n",
      " [ 7.2  3.   5.8  1.6]\n",
      " [ 7.4  2.8  6.1  1.9]\n",
      " [ 7.9  3.8  6.4  2. ]\n",
      " [ 6.4  2.8  5.6  2.2]\n",
      " [ 6.3  2.8  5.1  1.5]\n",
      " [ 6.1  2.6  5.6  1.4]\n",
      " [ 7.7  3.   6.1  2.3]\n",
      " [ 6.3  3.4  5.6  2.4]\n",
      " [ 6.4  3.1  5.5  1.8]\n",
      " [ 6.   3.   4.8  1.8]\n",
      " [ 6.9  3.1  5.4  2.1]\n",
      " [ 6.7  3.1  5.6  2.4]\n",
      " [ 6.9  3.1  5.1  2.3]\n",
      " [ 5.8  2.7  5.1  1.9]\n",
      " [ 6.8  3.2  5.9  2.3]\n",
      " [ 6.7  3.3  5.7  2.5]\n",
      " [ 6.7  3.   5.2  2.3]\n",
      " [ 6.3  2.5  5.   1.9]\n",
      " [ 6.5  3.   5.2  2. ]\n",
      " [ 6.2  3.4  5.4  2.3]\n",
      " [ 5.9  3.   5.1  1.8]]\n",
      "[0 0 0 0 0 0 0 0 0 0 0 0 0 0 0 0 0 0 0 0 0 0 0 0 0 0 0 0 0 0 0 0 0 0 0 0 0\n",
      " 0 0 0 0 0 0 0 0 0 0 0 0 0 1 1 1 1 1 1 1 1 1 1 1 1 1 1 1 1 1 1 1 1 1 1 1 1\n",
      " 1 1 1 1 1 1 1 1 1 1 1 1 1 1 1 1 1 1 1 1 1 1 1 1 1 1 2 2 2 2 2 2 2 2 2 2 2\n",
      " 2 2 2 2 2 2 2 2 2 2 2 2 2 2 2 2 2 2 2 2 2 2 2 2 2 2 2 2 2 2 2 2 2 2 2 2 2\n",
      " 2 2]\n"
     ]
    }
   ],
   "source": [
    "from sklearn import datasets\n",
    "iris=datasets.load_iris()\n",
    "print(iris[\"DESCR\"])  #資料集描述資料\n",
    "print(iris[\"feature_names\"])  #資料集欄位名稱\n",
    "print(iris[\"data\"])   #資料集的資料\n",
    "print(iris[\"target\"])   #資料集的分類結果"
   ]
  },
  {
   "cell_type": "markdown",
   "metadata": {},
   "source": [
    "KMeans演算法"
   ]
  },
  {
   "cell_type": "code",
   "execution_count": 2,
   "metadata": {},
   "outputs": [
    {
     "name": "stdout",
     "output_type": "stream",
     "text": [
      "[0 0 0 0 0 0 0 0 0 0 0 0 0 0 0 0 0 0 0 0 0 0 0 0 0 0 0 0 0 0 0 0 0 0 0 0 0\n",
      " 0 0 0 0 0 0 0 0 0 0 0 0 0 1 1 1 1 1 1 1 1 1 1 1 1 1 1 1 1 1 1 1 1 1 1 1 1\n",
      " 1 1 1 1 1 1 1 1 1 1 1 1 1 1 1 1 1 1 1 1 1 1 1 1 1 1 2 2 2 2 2 2 2 2 2 2 2\n",
      " 2 2 2 2 2 2 2 2 2 2 2 2 2 2 2 2 2 2 2 2 2 2 2 2 2 2 2 2 2 2 2 2 2 2 2 2 2\n",
      " 2 2]\n",
      "[1 1 1 1 1 1 1 1 1 1 1 1 1 1 1 1 1 1 1 1 1 1 1 1 1 1 1 1 1 1 1 1 1 1 1 1 1\n",
      " 1 1 1 1 1 1 1 1 1 1 1 1 1 2 2 0 2 2 2 2 2 2 2 2 2 2 2 2 2 2 2 2 2 2 2 2 2\n",
      " 2 2 2 0 2 2 2 2 2 2 2 2 2 2 2 2 2 2 2 2 2 2 2 2 2 2 0 2 0 0 0 0 2 0 0 0 0\n",
      " 0 0 2 2 0 0 0 0 2 0 2 0 2 0 0 2 2 0 0 0 0 0 2 0 0 0 0 2 0 0 0 2 0 0 0 2 0\n",
      " 0 2]\n"
     ]
    }
   ],
   "source": [
    "#KMeans演算法-1\n",
    "from sklearn import datasets,cluster #從sklearn模組的子模組:datasets & cluster 中取得iris資料庫\n",
    "iris=datasets.load_iris()\n",
    "#print(iris[\"DESCR\"])\n",
    "#print(iris[\"data\"]) \n",
    "print(iris[\"target\"]) #正確值\n",
    "iris_kmeans=cluster.KMeans(n_clusters=3).fit(iris[\"data\"]) #用 kmeans將clusters分成 3類\n",
    "print(iris_kmeans.labels_) #用kmeans分類結果"
   ]
  },
  {
   "cell_type": "code",
   "execution_count": 3,
   "metadata": {},
   "outputs": [
    {
     "name": "stdout",
     "output_type": "stream",
     "text": [
      "[0 0 0 0 0 0 0 0 0 0 0 0 0 0 0 0 0 0 0 0 0 0 0 0 0 0 0 0 0 0 0 0 0 0 0 0 0\n",
      " 0 0 0 0 0 0 0 0 0 0 0 0 0 1 1 1 1 1 1 1 1 1 1 1 1 1 1 1 1 1 1 1 1 1 1 1 1\n",
      " 1 1 1 1 1 1 1 1 1 1 1 1 1 1 1 1 1 1 1 1 1 1 1 1 1 1 2 2 2 2 2 2 2 2 2 2 2\n",
      " 2 2 2 2 2 2 2 2 2 2 2 2 2 2 2 2 2 2 2 2 2 2 2 2 2 2 2 2 2 2 2 2 2 2 2 2 2\n",
      " 2 2]\n",
      "[1 1 1 1 1 1 1 1 1 1 1 1 1 1 1 1 1 1 1 1 1 1 1 1 1 1 1 1 1 1 1 1 1 1 1 1 1\n",
      " 1 1 1 1 1 1 1 1 1 1 1 1 1 0 0 2 0 0 0 0 0 0 0 0 0 0 0 0 0 0 0 0 0 0 0 0 0\n",
      " 0 0 0 2 0 0 0 0 0 0 0 0 0 0 0 0 0 0 0 0 0 0 0 0 0 0 2 0 2 2 2 2 0 2 2 2 2\n",
      " 2 2 0 0 2 2 2 2 0 2 0 2 0 2 2 0 0 2 2 2 2 2 0 2 2 2 2 0 2 2 2 0 2 2 2 0 2\n",
      " 2 0]\n",
      "0.552591944521\n"
     ]
    }
   ],
   "source": [
    "#KMeans演算法-2\n",
    "from sklearn import datasets,cluster,metrics\n",
    "iris=datasets.load_iris()\n",
    "#print(iris[\"DESCR\"])\n",
    "#print(iris[\"data\"]) \n",
    "print(iris[\"target\"]) \n",
    "iris_kmeans=cluster.KMeans(n_clusters=3).fit(iris[\"data\"])\n",
    "print(iris_kmeans.labels_)\n",
    "silhouette_avg=metrics.silhouette_score(iris[\"data\"],iris_kmeans.labels_)\n",
    "print(silhouette_avg)  #值越接近1越好"
   ]
  },
  {
   "cell_type": "code",
   "execution_count": 5,
   "metadata": {
    "scrolled": false
   },
   "outputs": [
    {
     "data": {
      "image/png": "[encoded data removed]",
      "text/plain": [
       "<matplotlib.figure.Figure at 0x53835c0>"
      ]
     },
     "metadata": {},
     "output_type": "display_data"
    }
   ],
   "source": [
    "#KMeans演算法-3\n",
    "#用迴圈觀察要分成幾類才最接近正確值\n",
    "from sklearn import datasets,cluster,metrics\n",
    "import matplotlib.pyplot as plt #畫圖的模組\n",
    "iris=datasets.load_iris()\n",
    "silhouette_avgs=[]\n",
    "ks=range(2,10)\n",
    "for k in ks:  #python中的迴圈一定要縮排!才能run\n",
    "    iris_kmeans=cluster.KMeans(n_clusters=k).fit(iris[\"data\"])\n",
    "    silhouette_avg=metrics.silhouette_score(iris[\"data\"],iris_kmeans.labels_)\n",
    "    silhouette_avgs.append(silhouette_avg) #將結果放入silhouette_avgs陣列\n",
    "plt.bar(ks,silhouette_avgs)\n",
    "plt.show()"
   ]
  },
  {
   "cell_type": "code",
   "execution_count": 4,
   "metadata": {
    "scrolled": true
   },
   "outputs": [
    {
     "name": "stdout",
     "output_type": "stream",
     "text": [
      "Optical Recognition of Handwritten Digits Data Set\n",
      "===================================================\n",
      "\n",
      "Notes\n",
      "-----\n",
      "Data Set Characteristics:\n",
      "    :Number of Instances: 5620\n",
      "    :Number of Attributes: 64\n",
      "    :Attribute Information: 8x8 image of integer pixels in the range 0..16.\n",
      "    :Missing Attribute Values: None\n",
      "    :Creator: E. Alpaydin (alpaydin '@' boun.edu.tr)\n",
      "    :Date: July; 1998\n",
      "\n",
      "This is a copy of the test set of the UCI ML hand-written digits datasets\n",
      "http://archive.ics.uci.edu/ml/datasets/Optical+Recognition+of+Handwritten+Digits\n",
      "\n",
      "The data set contains images of hand-written digits: 10 classes where\n",
      "each class refers to a digit.\n",
      "\n",
      "Preprocessing programs made available by NIST were used to extract\n",
      "normalized bitmaps of handwritten digits from a preprinted form. From a\n",
      "total of 43 people, 30 contributed to the training set and different 13\n",
      "to the test set. 32x32 bitmaps are divided into nonoverlapping blocks of\n",
      "4x4 and the number of on pixels are counted in each block. This generates\n",
      "an input matrix of 8x8 where each element is an integer in the range\n",
      "0..16. This reduces dimensionality and gives invariance to small\n",
      "distortions.\n",
      "\n",
      "For info on NIST preprocessing routines, see M. D. Garris, J. L. Blue, G.\n",
      "T. Candela, D. L. Dimmick, J. Geist, P. J. Grother, S. A. Janet, and C.\n",
      "L. Wilson, NIST Form-Based Handprint Recognition System, NISTIR 5469,\n",
      "1994.\n",
      "\n",
      "References\n",
      "----------\n",
      "  - C. Kaynak (1995) Methods of Combining Multiple Classifiers and Their\n",
      "    Applications to Handwritten Digit Recognition, MSc Thesis, Institute of\n",
      "    Graduate Studies in Science and Engineering, Bogazici University.\n",
      "  - E. Alpaydin, C. Kaynak (1998) Cascading Classifiers, Kybernetika.\n",
      "  - Ken Tang and Ponnuthurai N. Suganthan and Xi Yao and A. Kai Qin.\n",
      "    Linear dimensionalityreduction using relevance weighted LDA. School of\n",
      "    Electrical and Electronic Engineering Nanyang Technological University.\n",
      "    2005.\n",
      "  - Claudio Gentile. A New Approximate Maximal Margin Classification\n",
      "    Algorithm. NIPS. 2000.\n",
      "\n",
      "[[  0.   0.   5. ...,   0.   0.   0.]\n",
      " [  0.   0.   0. ...,  10.   0.   0.]\n",
      " [  0.   0.   0. ...,  16.   9.   0.]\n",
      " ..., \n",
      " [  0.   0.   1. ...,   6.   0.   0.]\n",
      " [  0.   0.   2. ...,  12.   0.   0.]\n",
      " [  0.   0.  10. ...,  12.   1.   0.]]\n",
      "[0 1 2 ..., 8 9 8]\n"
     ]
    }
   ],
   "source": [
    "from sklearn import datasets\n",
    "digits=datasets.load_digits()\n",
    "print(digits[\"DESCR\"])\n",
    "print(digits[\"data\"])\n",
    "print(digits[\"target\"])"
   ]
  },
  {
   "cell_type": "code",
   "execution_count": 7,
   "metadata": {},
   "outputs": [
    {
     "data": {
      "image/png": "[encoded data removed]",
      "text/plain": [
       "<matplotlib.figure.Figure at 0xd3ba6a0>"
      ]
     },
     "metadata": {},
     "output_type": "display_data"
    }
   ],
   "source": [
    "from sklearn import datasets\n",
    "import matplotlib.pyplot as plt\n",
    "digits=datasets.load_digits()\n",
    "#print(digits[\"DESCR\"])\n",
    "#print(digits[\"data\"])\n",
    "#print(digits[\"target\"])\n",
    "plt.figure(1,figsize=(3,3))\n",
    "plt.imshow(digits.images[0],cmap=plt.cm.gray_r,interpolation='nearest')\n",
    "plt.show()"
   ]
  },
  {
   "cell_type": "code",
   "execution_count": 5,
   "metadata": {},
   "outputs": [
    {
     "name": "stderr",
     "output_type": "stream",
     "text": [
      "C:\\ProgramData\\Anaconda3\\lib\\site-packages\\sklearn\\cross_validation.py:41: DeprecationWarning: This module was deprecated in version 0.18 in favor of the model_selection module into which all the refactored classes and functions are moved. Also note that the interface of the new CV iterators are different from that of this module. This module will be removed in 0.20.\n",
      "  \"This module will be removed in 0.20.\", DeprecationWarning)\n"
     ]
    },
    {
     "data": {
      "image/png": "[encoded data removed]",
      "text/plain": [
       "<matplotlib.figure.Figure at 0xb8c11d0>"
      ]
     },
     "metadata": {},
     "output_type": "display_data"
    }
   ],
   "source": [
    "from sklearn import datasets,svm\n",
    "from sklearn.cross_validation import train_test_split\n",
    "import matplotlib.pyplot as plt\n",
    "digits=datasets.load_digits()\n",
    "X_train,X_test,y_train,y_test,image_train,image_test=train_test_split(digits.data,digits.target,digits.images,\n",
    "                                                                      test_size=0.25,random_state=42)\n",
    "svc_model=svm.SVC(gamma=0.01,C=100,kernel='linear')\n",
    "svc_model.fit(X_train,y_train)\n",
    "predicted=svc_model.predict(X_test)\n",
    "images_and_predictions=list(zip(image_test,predicted))\n",
    "for index,(image,prediction) in enumerate(images_and_predictions[:4]):\n",
    "    plt.subplot(1,4,index+1)\n",
    "    plt.axis('off')\n",
    "    plt.imshow(image,cmap=plt.cm.binary)\n",
    "    plt.title('Predicted:'+str(prediction))\n",
    "plt.show()"
   ]
  },
  {
   "cell_type": "code",
   "execution_count": null,
   "metadata": {
    "collapsed": true
   },
   "outputs": [],
   "source": []
  }
 ],
 "metadata": {
  "kernelspec": {
   "display_name": "Python 3",
   "language": "python",
   "name": "python3"
  },
  "language_info": {
   "codemirror_mode": {
    "name": "ipython",
    "version": 3
   },
   "file_extension": ".py",
   "mimetype": "text/x-python",
   "name": "python",
   "nbconvert_exporter": "python",
   "pygments_lexer": "ipython3",
   "version": "3.6.3"
  }
 },
 "nbformat": 4,
 "nbformat_minor": 2
}
